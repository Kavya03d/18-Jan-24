{
 "cells": [
  {
   "cell_type": "code",
   "execution_count": 1,
   "id": "c757cead-998c-414b-8aee-f452a1e67cc7",
   "metadata": {},
   "outputs": [
    {
     "name": "stdout",
     "output_type": "stream",
     "text": [
      "Ladyfinger\n",
      "Potato\n",
      "Pineapple\n",
      "apple\n",
      "banana\n",
      "Mango\n"
     ]
    }
   ],
   "source": [
    "#Loop Lists\n",
    "\n",
    "fruits = [\"Ladyfinger\", \"Potato\", \"Pineapple\", \"apple\", \"banana\", \"Mango\"]\n",
    "for x in fruits:\n",
    "    print(x)\n"
   ]
  },
  {
   "cell_type": "code",
   "execution_count": 2,
   "id": "a9b34302-8cf7-4d91-bb68-fc2080dd2a1a",
   "metadata": {},
   "outputs": [
    {
     "name": "stdout",
     "output_type": "stream",
     "text": [
      "Ladyfinger\n",
      "Potato\n",
      "Pineapple\n",
      "apple\n",
      "banana\n",
      "Mango\n"
     ]
    }
   ],
   "source": [
    "#Looping lists with index numbers\n",
    "\n",
    "fruits = [\"Ladyfinger\", \"Potato\", \"Pineapple\", \"apple\", \"banana\", \"Mango\"]\n",
    "for x in range(len(fruits)):\n",
    "    print(fruits[x])"
   ]
  },
  {
   "cell_type": "code",
   "execution_count": 6,
   "id": "ed14d251-70b0-4731-9da5-0a6eb839a73f",
   "metadata": {},
   "outputs": [
    {
     "name": "stdout",
     "output_type": "stream",
     "text": [
      "Ladyfinger\n",
      "Potato\n",
      "Pineapple\n",
      "apple\n",
      "banana\n",
      "Mango\n"
     ]
    }
   ],
   "source": [
    "#Using While Loop\n",
    "fruits = [\"Ladyfinger\", \"Potato\", \"Pineapple\", \"apple\", \"banana\", \"Mango\"]\n",
    "i = 0\n",
    "while i < len(fruits):\n",
    "    print(fruits[i])\n",
    "    i = i + 1\n"
   ]
  },
  {
   "cell_type": "code",
   "execution_count": 7,
   "id": "25db35bd-47f7-414c-88b7-72e237897d3c",
   "metadata": {},
   "outputs": [
    {
     "name": "stdout",
     "output_type": "stream",
     "text": [
      "apple\n",
      "banana\n",
      "cherry\n"
     ]
    }
   ],
   "source": [
    "thislist = [\"apple\", \"banana\", \"cherry\"]\n",
    "i = 0\n",
    "while i < len(thislist):\n",
    "  print(thislist[i])\n",
    "  i = i + 1"
   ]
  },
  {
   "cell_type": "code",
   "execution_count": 4,
   "id": "7a2da6ad-3d1c-4c2b-9b41-dd1db0a4d5f7",
   "metadata": {},
   "outputs": [
    {
     "name": "stdout",
     "output_type": "stream",
     "text": [
      "Ladyfinger\n",
      "Potato\n",
      "Pineapple\n",
      "apple\n",
      "banana\n",
      "Mango\n"
     ]
    }
   ],
   "source": [
    "#Using While Loop\n",
    "fruits = [\"Ladyfinger\", \"Potato\", \"Pineapple\", \"apple\", \"banana\", \"Mango\"]\n",
    "i = 0\n",
    "while i < len(fruits):\n",
    "    print(fruits[i])\n",
    "    i = i + 1"
   ]
  },
  {
   "cell_type": "code",
   "execution_count": 8,
   "id": "61fbb686-c504-4772-be57-de1f1b5a3352",
   "metadata": {},
   "outputs": [
    {
     "name": "stdout",
     "output_type": "stream",
     "text": [
      "apple\n",
      "banana\n",
      "cherry\n"
     ]
    }
   ],
   "source": [
    "thislist = [\"apple\", \"banana\", \"cherry\"]\n",
    "i = 0\n",
    "while i < len(thislist):\n",
    "  print(thislist[i])\n",
    "  i = i + 1"
   ]
  },
  {
   "cell_type": "code",
   "execution_count": 11,
   "id": "03c87500-39f9-4b59-945d-0b4a33369560",
   "metadata": {},
   "outputs": [
    {
     "name": "stdout",
     "output_type": "stream",
     "text": [
      "6\n"
     ]
    }
   ],
   "source": [
    "fruits = [\"Ladyfinger\", \"Potato\", \"Pineapple\", \"apple\", \"banana\", \"Mango\"]\n",
    "print(len(fruits))"
   ]
  },
  {
   "cell_type": "code",
   "execution_count": 3,
   "id": "d88e378f-0313-4cf0-bff2-315bb2b33628",
   "metadata": {},
   "outputs": [
    {
     "name": "stdout",
     "output_type": "stream",
     "text": [
      "Hello World\n"
     ]
    }
   ],
   "source": [
    "print(\"Hello World\")"
   ]
  },
  {
   "cell_type": "code",
   "execution_count": 14,
   "id": "a480cfff-f512-4e85-a55a-282efe70e537",
   "metadata": {},
   "outputs": [
    {
     "name": "stdout",
     "output_type": "stream",
     "text": [
      "Ladyfinger\n",
      "Potato\n",
      "Pineapple\n",
      "apple\n",
      "banana\n",
      "Mango\n"
     ]
    },
    {
     "data": {
      "text/plain": [
       "[None, None, None, None, None, None]"
      ]
     },
     "execution_count": 14,
     "metadata": {},
     "output_type": "execute_result"
    }
   ],
   "source": [
    "fruits = [\"Ladyfinger\", \"Potato\", \"Pineapple\", \"apple\", \"banana\", \"Mango\"]\n",
    "[print(x) for x in fruits]"
   ]
  },
  {
   "cell_type": "code",
   "execution_count": 16,
   "id": "15e1a7f0-5699-4739-a2ef-c329e47716fd",
   "metadata": {},
   "outputs": [
    {
     "name": "stdout",
     "output_type": "stream",
     "text": [
      "['Ladyfinger', 'Potato', 'Pineapple', 'apple', 'banana', 'Mango']\n"
     ]
    }
   ],
   "source": [
    "#List Comprehension\n",
    "fruits = [\"Ladyfinger\", \"Potato\", \"Pineapple\", \"apple\", \"banana\", \"Mango\"]\n",
    "newlist = []\n",
    "\n",
    "for x in fruits:\n",
    "    if \"a\" in x:\n",
    "        newlist.append(x)\n",
    "\n",
    "print(newlist)"
   ]
  },
  {
   "cell_type": "code",
   "execution_count": 19,
   "id": "5f9606e6-7ade-479a-8479-8b87063d3142",
   "metadata": {},
   "outputs": [
    {
     "name": "stdout",
     "output_type": "stream",
     "text": [
      "['Ladyfinger']\n"
     ]
    }
   ],
   "source": [
    "fruits = [\"Ladyfinger\", \"Potato\", \"Pineapple\", \"apple\", \"banana\", \"Mango\"]\n",
    "newlist = []\n",
    "for x in fruits:\n",
    "    if \"L\" in x:\n",
    "     newlist.append(x)\n",
    "\n",
    "print(newlist)"
   ]
  },
  {
   "cell_type": "code",
   "execution_count": 20,
   "id": "282c4779-e692-420a-a577-bf096f2d8a24",
   "metadata": {},
   "outputs": [
    {
     "name": "stdout",
     "output_type": "stream",
     "text": [
      "['Potato', 'Mango']\n"
     ]
    }
   ],
   "source": [
    "fruits = [\"Ladyfinger\", \"Potato\", \"Pineapple\", \"apple\", \"banana\", \"Mango\"]\n",
    "newlist = []\n",
    "for y in fruits:\n",
    "    if \"o\" in y:\n",
    "        newlist.append(y)\n",
    "\n",
    "print(newlist)"
   ]
  },
  {
   "cell_type": "code",
   "execution_count": 23,
   "id": "dfc1a718-0b7d-479c-99f8-fc3ac0a27051",
   "metadata": {},
   "outputs": [
    {
     "name": "stdout",
     "output_type": "stream",
     "text": [
      "['Ladyfinger', 'Pineapple', 'apple']\n"
     ]
    }
   ],
   "source": [
    "fruits = [\"Ladyfinger\", \"Potato\", \"Pineapple\", \"apple\", \"banana\", \"Mango\"]\n",
    "newlist = [x for x in fruits if \"e\" in x]\n",
    "print(newlist)"
   ]
  },
  {
   "cell_type": "code",
   "execution_count": 25,
   "id": "8c5ea4e8-c6af-4e51-acc7-f8fe3b59f9f8",
   "metadata": {},
   "outputs": [
    {
     "name": "stdout",
     "output_type": "stream",
     "text": [
      "['Carrot', 'Beetroot', 'Bottleguard']\n"
     ]
    }
   ],
   "source": [
    "Vegetables = [\"Carrot\", \"Beetroot\", \"Bottleguard\", \"Ladies Finger\"]\n",
    "newlist = [y for y in Vegetables if \"o\" in y]\n",
    "print(newlist)"
   ]
  },
  {
   "cell_type": "code",
   "execution_count": 26,
   "id": "59b512b0-e149-4e5a-8e27-3973af928e36",
   "metadata": {},
   "outputs": [
    {
     "name": "stdout",
     "output_type": "stream",
     "text": [
      "['Carrot', 'Beetroot', 'Ladies Finger']\n"
     ]
    }
   ],
   "source": [
    "Vegetables = [\"Carrot\", \"Beetroot\", \"Bottleguard\", \"Ladies Finger\"]\n",
    "newlist = [x for x in Vegetables if x != \"Bottleguard\"]\n",
    "print(newlist)"
   ]
  },
  {
   "cell_type": "code",
   "execution_count": 27,
   "id": "6238d6d8-d08a-4c8f-81f5-1527925235ad",
   "metadata": {},
   "outputs": [
    {
     "name": "stdout",
     "output_type": "stream",
     "text": [
      "['Bottleguard']\n"
     ]
    }
   ],
   "source": [
    "Vegetables = [\"Carrot\", \"Beetroot\", \"Bottleguard\", \"Ladies Finger\"]\n",
    "newlist = [x for x in Vegetables if x == \"Bottleguard\"]\n",
    "print(newlist)"
   ]
  },
  {
   "cell_type": "code",
   "execution_count": 28,
   "id": "62474be3-19c4-497f-a250-8879229002bb",
   "metadata": {},
   "outputs": [
    {
     "name": "stdout",
     "output_type": "stream",
     "text": [
      "[0, 1, 2, 3, 4]\n"
     ]
    }
   ],
   "source": [
    "newlist = [x for x in range(5)]\n",
    "print(newlist)"
   ]
  },
  {
   "cell_type": "code",
   "execution_count": 36,
   "id": "e1ddb3d4-ec5d-4af6-9254-713088c5d4cb",
   "metadata": {},
   "outputs": [
    {
     "name": "stdout",
     "output_type": "stream",
     "text": [
      "[3, 4, 5, 6, 7, 8, 9]\n"
     ]
    }
   ],
   "source": [
    "mynumbers = [x for x in range(10) if x > 2]\n",
    "print(mynumbers)"
   ]
  },
  {
   "cell_type": "code",
   "execution_count": 37,
   "id": "a3011ad1-1609-4650-861a-a000a84fa39e",
   "metadata": {},
   "outputs": [
    {
     "name": "stdout",
     "output_type": "stream",
     "text": [
      "['ORANGE', 'APPLE', 'PINEAPPLE', 'MANGO', 'CHERRY']\n"
     ]
    }
   ],
   "source": [
    "#Expression\n",
    "fruits = [\"Orange\", \"Apple\", \"Pineapple\", \"Mango\", \"Cherry\"]\n",
    "newlist = [x.upper() for x in fruits]\n",
    "print(newlist)"
   ]
  },
  {
   "cell_type": "code",
   "execution_count": 38,
   "id": "d7904500-8fd8-4eb2-b7af-10cc3ae3615c",
   "metadata": {},
   "outputs": [
    {
     "name": "stdout",
     "output_type": "stream",
     "text": [
      "['Pomogranate', 'Pomogranate', 'Pomogranate', 'Pomogranate', 'Pomogranate']\n"
     ]
    }
   ],
   "source": [
    "fruits = [\"Orange\", \"Apple\", \"Pineapple\", \"Mango\", \"Cherry\"]\n",
    "newlist = [\"Pomogranate\" for x in fruits]\n",
    "print(newlist)"
   ]
  },
  {
   "cell_type": "code",
   "execution_count": 39,
   "id": "cace50a7-f33e-4016-a86b-cde3cceeaf71",
   "metadata": {},
   "outputs": [
    {
     "name": "stdout",
     "output_type": "stream",
     "text": [
      "['Pomogranate', 'Apple', 'Pineapple', 'Mango', 'Cherry']\n"
     ]
    }
   ],
   "source": [
    "fruits = [\"Orange\", \"Apple\", \"Pineapple\", \"Mango\", \"Cherry\"]\n",
    "newlist = [x if x != \"Orange\" else \"Pomogranate\" for x in fruits]\n",
    "print(newlist)"
   ]
  },
  {
   "cell_type": "code",
   "execution_count": 41,
   "id": "9b9c7d35-b0d7-401e-ab8d-0716b33b45cb",
   "metadata": {},
   "outputs": [
    {
     "name": "stdout",
     "output_type": "stream",
     "text": [
      "['a', 'c', 'd', 'i', 'n', 'z']\n"
     ]
    }
   ],
   "source": [
    " #Sorting List\n",
    "fruits = [\"n\", \"a\", \"c\", \"d\", \"i\", \"z\"]\n",
    "fruits.sort()\n",
    "print(fruits)"
   ]
  },
  {
   "cell_type": "code",
   "execution_count": 42,
   "id": "9aa81bfd-6280-464f-b45f-5c82a8f33593",
   "metadata": {},
   "outputs": [
    {
     "name": "stdout",
     "output_type": "stream",
     "text": [
      "[2, 12, 56, 85, 100]\n"
     ]
    }
   ],
   "source": [
    " #Sorting List\n",
    "fruits = [100, 85, 56, 12, 2]\n",
    "fruits.sort()\n",
    "print(fruits)"
   ]
  },
  {
   "cell_type": "code",
   "execution_count": 43,
   "id": "38723086-f1c9-4232-9fa2-f34f35140ceb",
   "metadata": {},
   "outputs": [
    {
     "name": "stdout",
     "output_type": "stream",
     "text": [
      "[6, 5, 4, 3, 2, 1]\n"
     ]
    }
   ],
   "source": [
    "#Descending Order\n",
    "numbers = [1, 2, 3, 4, 5, 6]\n",
    "numbers.sort(reverse = True)\n",
    "print(numbers)"
   ]
  },
  {
   "cell_type": "code",
   "execution_count": 44,
   "id": "c4eef9c4-fbbb-4d20-9a11-2e1e882dcd19",
   "metadata": {},
   "outputs": [
    {
     "name": "stdout",
     "output_type": "stream",
     "text": [
      "['Banana', 'grapes', 'Orange', 'watermelon']\n"
     ]
    }
   ],
   "source": [
    "#Case Sensitive Sorting\n",
    "\n",
    "fruits = [\"Orange\", \"Banana\", \"grapes\", \"watermelon\"]\n",
    "fruits.sort(key = str.lower)\n",
    "print(fruits)"
   ]
  },
  {
   "cell_type": "code",
   "execution_count": 45,
   "id": "f76cd460-0e37-4c5a-bdde-f278466c1904",
   "metadata": {},
   "outputs": [
    {
     "name": "stdout",
     "output_type": "stream",
     "text": [
      "['Banana', 'Orange', 'grapes', 'watermelon']\n"
     ]
    }
   ],
   "source": [
    "#Case Sensitive Sorting\n",
    "\n",
    "fruits = [\"Orange\", \"Banana\", \"grapes\", \"watermelon\"]\n",
    "fruits.sort()\n",
    "print(fruits)"
   ]
  },
  {
   "cell_type": "code",
   "execution_count": 46,
   "id": "613e8582-641a-4d89-83ea-5776c34a05db",
   "metadata": {},
   "outputs": [
    {
     "name": "stdout",
     "output_type": "stream",
     "text": [
      "['watermelon', 'grapes', 'Banana', 'Orange']\n"
     ]
    }
   ],
   "source": [
    "#Reverse Order\n",
    "fruits = [\"Orange\", \"Banana\", \"grapes\", \"watermelon\"]\n",
    "fruits.reverse()\n",
    "print(fruits)\n"
   ]
  },
  {
   "cell_type": "code",
   "execution_count": 48,
   "id": "c5356539-f8dd-4ae5-bd46-ea2479f92737",
   "metadata": {},
   "outputs": [
    {
     "name": "stdout",
     "output_type": "stream",
     "text": [
      "['Orange', 'Banana', 'grapes', 'watermelon']\n"
     ]
    }
   ],
   "source": [
    "#Copy Lists\n",
    "\n",
    "fruits = [\"Orange\", \"Banana\", \"grapes\", \"watermelon\"]\n",
    "fruits1 = fruits.copy()\n",
    "print(fruits1)"
   ]
  },
  {
   "cell_type": "code",
   "execution_count": 49,
   "id": "17193823-ced1-4387-909c-8a9112e4440f",
   "metadata": {},
   "outputs": [
    {
     "name": "stdout",
     "output_type": "stream",
     "text": [
      "['Orange', 'Banana', 'grapes', 'watermelon']\n"
     ]
    }
   ],
   "source": [
    "#Copy Lists\n",
    "\n",
    "fruits = [\"Orange\", \"Banana\", \"grapes\", \"watermelon\"]\n",
    "fruits1 = list(fruits)\n",
    "print(fruits1)"
   ]
  },
  {
   "cell_type": "code",
   "execution_count": 50,
   "id": "52774425-6c8b-464b-b319-e972cd72e6f9",
   "metadata": {},
   "outputs": [
    {
     "name": "stdout",
     "output_type": "stream",
     "text": [
      "['a', 'b', 'c', 1, 2, 3]\n"
     ]
    }
   ],
   "source": [
    "#Joining Lists\n",
    "List1 = [\"a\", \"b\", \"c\"]\n",
    "List2 = [1, 2, 3]\n",
    "List3 = List1 + List2\n",
    "print(List3)"
   ]
  },
  {
   "cell_type": "code",
   "execution_count": 53,
   "id": "f561431d-0e52-4dc0-b4ef-2f74d9ed1622",
   "metadata": {},
   "outputs": [
    {
     "name": "stdout",
     "output_type": "stream",
     "text": [
      "['a', 'b', 'c', 1, 2, 3]\n"
     ]
    }
   ],
   "source": [
    "#Joining Lists\n",
    "\n",
    "List1 = [\"a\", \"b\", \"c\"]\n",
    "List2 = [1, 2, 3]\n",
    "for x in List2:\n",
    "    List1.append(x)\n",
    "print(List1)"
   ]
  },
  {
   "cell_type": "code",
   "execution_count": 57,
   "id": "dd34ff1f-fbee-4358-bac2-5b9b9e2a6451",
   "metadata": {},
   "outputs": [
    {
     "name": "stdout",
     "output_type": "stream",
     "text": [
      "[50, 65, 23, 82, 100]\n"
     ]
    }
   ],
   "source": [
    "def myfunc(n):\n",
    "  return (abs(n - 50))\n",
    "\n",
    "thislist = [100, 50, 65, 82, 23]\n",
    "for x in thislist:\n",
    "    myfunc(x)\n",
    "thislist.sort(key = myfunc)\n",
    "\n",
    "print(thislist)\n"
   ]
  },
  {
   "cell_type": "code",
   "execution_count": 59,
   "id": "a736d300-9c68-46ba-8510-c602cca8aba6",
   "metadata": {},
   "outputs": [
    {
     "name": "stdout",
     "output_type": "stream",
     "text": [
      "['a', 'b', 'c', 1, 2, 3]\n"
     ]
    }
   ],
   "source": [
    "#Joining Lists\n",
    "\n",
    "List1 = [\"a\", \"b\", \"c\"]\n",
    "List2 = [1, 2, 3]\n",
    "List1.extend(List2)\n",
    "print(List1)"
   ]
  },
  {
   "cell_type": "code",
   "execution_count": 60,
   "id": "d7479833-7adf-435c-8600-87aa5e02792a",
   "metadata": {},
   "outputs": [
    {
     "name": "stdout",
     "output_type": "stream",
     "text": [
      "('Apple', 'Banana', 'Mango')\n"
     ]
    }
   ],
   "source": [
    "#Tuple\n",
    "\n",
    "thistuple = (\"Apple\", \"Banana\", \"Mango\")\n",
    "print(thistuple)"
   ]
  },
  {
   "cell_type": "code",
   "execution_count": 61,
   "id": "3d05f4ab-86dd-4f55-a0bd-4d5e56f0a72b",
   "metadata": {},
   "outputs": [
    {
     "name": "stdout",
     "output_type": "stream",
     "text": [
      "3\n"
     ]
    }
   ],
   "source": [
    "#Tuple Length\n",
    "\n",
    "thistuple = (\"Apple\", \"Banana\", \"Mango\")\n",
    "print(len(thistuple))"
   ]
  },
  {
   "cell_type": "code",
   "execution_count": 62,
   "id": "9f260d03-1cf7-4641-860a-15b8e72a84ca",
   "metadata": {},
   "outputs": [
    {
     "name": "stdout",
     "output_type": "stream",
     "text": [
      "<class 'tuple'>\n"
     ]
    }
   ],
   "source": [
    "# Tuple with one item\n",
    "\n",
    "thistuple = (\"Apple\",)\n",
    "print(type(thistuple))"
   ]
  },
  {
   "cell_type": "code",
   "execution_count": 63,
   "id": "21fc52b6-30aa-40ce-b3cd-35e729b56a6b",
   "metadata": {},
   "outputs": [
    {
     "name": "stdout",
     "output_type": "stream",
     "text": [
      "<class 'str'>\n"
     ]
    }
   ],
   "source": [
    "# Tuple with one item. if comma is not mentioned it will take the data type as string\n",
    "\n",
    "thistuple = (\"Apple\")\n",
    "print(type(thistuple))"
   ]
  },
  {
   "cell_type": "code",
   "execution_count": 64,
   "id": "1498d8c3-87d4-45ec-ade7-0d71416292fd",
   "metadata": {},
   "outputs": [
    {
     "name": "stdout",
     "output_type": "stream",
     "text": [
      "('apple', 'banana')\n",
      "(1, 2, 3)\n",
      "(True, False)\n"
     ]
    }
   ],
   "source": [
    "#Tuple with different data types\n",
    "\n",
    "tuple1 = (\"apple\", \"banana\")\n",
    "tuple2 = (1, 2, 3)\n",
    "tuple3 = (True, False)\n",
    "\n",
    "print(tuple1)\n",
    "print(tuple2)\n",
    "print(tuple3)\n"
   ]
  },
  {
   "cell_type": "code",
   "execution_count": 65,
   "id": "715f4eb7-b547-4173-a929-2ffe16f4edf1",
   "metadata": {},
   "outputs": [
    {
     "name": "stdout",
     "output_type": "stream",
     "text": [
      "(1, 2, 3)\n"
     ]
    }
   ],
   "source": [
    "#The tuple constructor\n",
    "\n",
    "tuple1 = tuple((1, 2, 3))\n",
    "print(tuple1)"
   ]
  },
  {
   "cell_type": "code",
   "execution_count": 1,
   "id": "7b942079-6e82-46f4-a51e-6ec3cda82a35",
   "metadata": {},
   "outputs": [
    {
     "name": "stdout",
     "output_type": "stream",
     "text": [
      "Banana\n"
     ]
    }
   ],
   "source": [
    "#Accessing Tuple Items\n",
    "\n",
    "fruits = (\"Apple\", \"Banana\", \"Cherry\")\n",
    "print(fruits[1])\n"
   ]
  },
  {
   "cell_type": "code",
   "execution_count": 4,
   "id": "9b06b797-39f9-408a-a5db-f586ea474a43",
   "metadata": {},
   "outputs": [
    {
     "name": "stdout",
     "output_type": "stream",
     "text": [
      "Cherry\n"
     ]
    }
   ],
   "source": [
    "#Negative Indexing in Tuple\n",
    "\n",
    "fruits = (\"Apple\", \"Banana\", \"Cherry\", \"Orange\")\n",
    "print(fruits[-2])"
   ]
  },
  {
   "cell_type": "code",
   "execution_count": 5,
   "id": "def21793-59c2-4f01-82f1-0da5d5e4aad1",
   "metadata": {},
   "outputs": [
    {
     "name": "stdout",
     "output_type": "stream",
     "text": [
      "('Cherry', 'Orange', 'Pomogranate', 'Pineapple')\n"
     ]
    }
   ],
   "source": [
    "#Range Of Indexes\n",
    "\n",
    "fruits = (\"Apple\", \"Banana\", \"Cherry\", \"Orange\", \"Pomogranate\", \"Pineapple\", \"Custard Apple\")\n",
    "print(fruits[2:6])"
   ]
  },
  {
   "cell_type": "code",
   "execution_count": 6,
   "id": "655a208f-cb5c-46cd-8ea2-85fb20bb027e",
   "metadata": {},
   "outputs": [
    {
     "name": "stdout",
     "output_type": "stream",
     "text": [
      "Yes, Cherry is in fruits\n"
     ]
    }
   ],
   "source": [
    "#Check if Item Exists\n",
    "fruits = (\"Apple\", \"Banana\", \"Cherry\", \"Orange\", \"Pomogranate\", \"Pineapple\", \"Custard Apple\")\n",
    "if \"Cherry\" in fruits:\n",
    "    print(\"Yes, Cherry is in fruits\")\n"
   ]
  },
  {
   "cell_type": "code",
   "execution_count": 7,
   "id": "0e65b6de-9554-4776-a8ad-4980275e92b6",
   "metadata": {},
   "outputs": [
    {
     "name": "stdout",
     "output_type": "stream",
     "text": [
      "No not available\n"
     ]
    }
   ],
   "source": [
    "#Check if Item Exists\n",
    "\n",
    "fruits = (\"Apple\", \"Banana\", \"Cherry\", \"Orange\", \"Pomogranate\", \"Pineapple\", \"Custard Apple\")\n",
    "if \"Green Apple\" in fruits:\n",
    "    print(\"Yes, Green Apple is in fruits\")\n",
    "\n",
    "else:\n",
    "    print(\"No not available\")"
   ]
  },
  {
   "cell_type": "code",
   "execution_count": 10,
   "id": "f85da747-9b54-4df8-ad48-e158f330a75f",
   "metadata": {},
   "outputs": [
    {
     "name": "stdout",
     "output_type": "stream",
     "text": [
      "('Apple', 'Banana', 'Cherry', 'Orange', 'Green Apple', 'Pineapple', 'Custard Apple')\n"
     ]
    }
   ],
   "source": [
    "#Change Tuple Values\n",
    "\n",
    "x = (\"Apple\", \"Banana\", \"Cherry\", \"Orange\", \"Pomogranate\", \"Pineapple\", \"Custard Apple\")\n",
    "y = list(x)\n",
    "y[4] = \"Green Apple\"\n",
    "x = tuple(y)\n",
    "print(x)\n"
   ]
  },
  {
   "cell_type": "code",
   "execution_count": 11,
   "id": "1418a3b5-bf82-400b-9160-67acc1db0d3b",
   "metadata": {},
   "outputs": [
    {
     "name": "stdout",
     "output_type": "stream",
     "text": [
      "('Apple', 'Banana', 'Cherry', 'Orange', 'Pineapple')\n"
     ]
    }
   ],
   "source": [
    "#Add Items in Tuples using append()\n",
    "\n",
    "x = (\"Apple\", \"Banana\", \"Cherry\", \"Orange\")\n",
    "y = list(x)\n",
    "y.append(\"Pineapple\")\n",
    "x = tuple(y)\n",
    "print(x)"
   ]
  },
  {
   "cell_type": "code",
   "execution_count": 12,
   "id": "73994783-1f08-4f4f-9c30-38061b95b592",
   "metadata": {},
   "outputs": [
    {
     "name": "stdout",
     "output_type": "stream",
     "text": [
      "('Apple', 'Banana', 'Cherry', 'Orange', 'Pineapple')\n"
     ]
    }
   ],
   "source": [
    "#Add a tuple to a tuple\n",
    "\n",
    "x = (\"Apple\", \"Banana\", \"Cherry\", \"Orange\")\n",
    "y = (\"Pineapple\",)\n",
    "x += y\n",
    "print(x)\n",
    "\n"
   ]
  },
  {
   "cell_type": "code",
   "execution_count": 13,
   "id": "5398f9fe-befe-4f62-beea-8e934b4912a7",
   "metadata": {},
   "outputs": [
    {
     "name": "stdout",
     "output_type": "stream",
     "text": [
      "('Apple', 'Cherry', 'Orange')\n"
     ]
    }
   ],
   "source": [
    "#Remove Items in Tuples using remove()\n",
    "\n",
    "x = (\"Apple\", \"Banana\", \"Cherry\", \"Orange\")\n",
    "y = list(x)\n",
    "y.remove(\"Banana\")\n",
    "x = tuple(y)\n",
    "print(x)"
   ]
  },
  {
   "cell_type": "code",
   "execution_count": 15,
   "id": "0adf0fb6-4d6f-4485-874c-b93a05797b3d",
   "metadata": {},
   "outputs": [
    {
     "name": "stdout",
     "output_type": "stream",
     "text": [
      "Apple\n",
      "Banana\n",
      "Cherry\n",
      "Orange\n"
     ]
    }
   ],
   "source": [
    "#Unpacking a Tuple\n",
    "x = (\"Apple\", \"Banana\", \"Cherry\", \"Orange\")\n",
    "(Red, Yellow, Maroon, Orange) = x\n",
    "\n",
    "print(Red)\n",
    "print(Yellow)\n",
    "print(Maroon)\n",
    "print(Orange)\n"
   ]
  },
  {
   "cell_type": "code",
   "execution_count": 16,
   "id": "72516a91-cd3f-47a6-9df7-2e9c3816b0ab",
   "metadata": {},
   "outputs": [
    {
     "name": "stdout",
     "output_type": "stream",
     "text": [
      "Apple\n",
      "Banana\n",
      "Cherry\n",
      "['Orange', 'Pomogranate', 'Pineapple']\n"
     ]
    }
   ],
   "source": [
    "#Unpacking a Tuple using Asterick\n",
    "\n",
    "x = (\"Apple\", \"Banana\", \"Cherry\", \"Orange\", \"Pomogranate\", \"Pineapple\")\n",
    "(Red, Yellow, Maroon, *Orange) = x\n",
    "\n",
    "print(Red)\n",
    "print(Yellow)\n",
    "print(Maroon)\n",
    "print(Orange)"
   ]
  },
  {
   "cell_type": "code",
   "execution_count": 17,
   "id": "284ddbbd-1de0-44f2-bb37-fc28f0ec050c",
   "metadata": {},
   "outputs": [
    {
     "name": "stdout",
     "output_type": "stream",
     "text": [
      "Apple\n",
      "['Banana', 'Cherry', 'Orange']\n",
      "Pomogranate\n",
      "Pineapple\n"
     ]
    }
   ],
   "source": [
    "#Unpacking a Tuple using Asterick\n",
    "\n",
    "x = (\"Apple\", \"Banana\", \"Cherry\", \"Orange\", \"Pomogranate\", \"Pineapple\")\n",
    "(Red, *Yellow, Maroon, Orange) = x\n",
    "\n",
    "print(Red)\n",
    "print(Yellow)\n",
    "print(Maroon)\n",
    "print(Orange)"
   ]
  },
  {
   "cell_type": "code",
   "execution_count": 18,
   "id": "10c15f44-8421-48e4-bcac-68f9b8e16226",
   "metadata": {},
   "outputs": [
    {
     "name": "stdout",
     "output_type": "stream",
     "text": [
      "Apple\n",
      "Banana\n",
      "Cherry\n",
      "Orange\n",
      "Pomogranate\n",
      "Pineapple\n"
     ]
    }
   ],
   "source": [
    "#Looping the tuple\n",
    "\n",
    "fruits = (\"Apple\", \"Banana\", \"Cherry\", \"Orange\", \"Pomogranate\", \"Pineapple\")\n",
    "for x in fruits:\n",
    "    print(x)"
   ]
  },
  {
   "cell_type": "code",
   "execution_count": 20,
   "id": "d80b4c41-b963-40ef-b4cd-2540acf5637b",
   "metadata": {},
   "outputs": [
    {
     "name": "stdout",
     "output_type": "stream",
     "text": [
      "Apple\n",
      "Banana\n",
      "Cherry\n",
      "Orange\n",
      "Pomogranate\n",
      "Pineapple\n"
     ]
    }
   ],
   "source": [
    "#Looping the tuple using indexing\n",
    "\n",
    "fruits = (\"Apple\", \"Banana\", \"Cherry\", \"Orange\", \"Pomogranate\", \"Pineapple\")\n",
    "for x in range(len(fruits)):\n",
    "    print(fruits[x])\n"
   ]
  },
  {
   "cell_type": "code",
   "execution_count": 21,
   "id": "7953ce11-c54d-45f6-9f9b-b242eb574815",
   "metadata": {},
   "outputs": [
    {
     "name": "stdout",
     "output_type": "stream",
     "text": [
      "Apple\n",
      "Banana\n",
      "Cherry\n",
      "Orange\n",
      "Pomogranate\n",
      "Pineapple\n"
     ]
    }
   ],
   "source": [
    "#Looping by while loop\n",
    "\n",
    "fruits = (\"Apple\", \"Banana\", \"Cherry\", \"Orange\", \"Pomogranate\", \"Pineapple\")\n",
    "i = 0\n",
    "while i < len(fruits):\n",
    "    print(fruits[i])\n",
    "    i = i +1"
   ]
  },
  {
   "cell_type": "code",
   "execution_count": 22,
   "id": "096f5589-c317-4e2b-a20f-7f67f6463dd6",
   "metadata": {},
   "outputs": [
    {
     "name": "stdout",
     "output_type": "stream",
     "text": [
      "('a', 'b', 'c', 1, 2, 3)\n"
     ]
    }
   ],
   "source": [
    "# Joing Two Tuples\n",
    "\n",
    "Tuple1 = (\"a\", \"b\", \"c\")\n",
    "Tuple2 = (1, 2, 3)\n",
    "Tuple3 = Tuple1 + Tuple2\n",
    "print(Tuple3)"
   ]
  },
  {
   "cell_type": "code",
   "execution_count": 23,
   "id": "24ef6714-cd16-4c36-a9c3-38d3f30a94f3",
   "metadata": {},
   "outputs": [
    {
     "name": "stdout",
     "output_type": "stream",
     "text": [
      "('Apple', 'Banana', 'Cherry', 'Apple', 'Banana', 'Cherry', 'Apple', 'Banana', 'Cherry')\n"
     ]
    }
   ],
   "source": [
    "#Multiply the Tuple\n",
    "\n",
    "fruits = (\"Apple\", \"Banana\", \"Cherry\")\n",
    "x = fruits * 3\n",
    "print(x)\n"
   ]
  },
  {
   "cell_type": "code",
   "execution_count": 4,
   "id": "cc0dd0a2-cb11-47b7-bef6-146c53fa70a6",
   "metadata": {},
   "outputs": [
    {
     "name": "stdout",
     "output_type": "stream",
     "text": [
      "{'Apple', 'Cherry', 'Banana'}\n"
     ]
    }
   ],
   "source": [
    "#SET\n",
    "\n",
    "fruits = {\"Apple\", \"Banana\", \"Cherry\"}\n",
    "print(fruits)"
   ]
  },
  {
   "cell_type": "code",
   "execution_count": 5,
   "id": "f41dabf3-27a1-4164-9adf-43fa9106ac0d",
   "metadata": {},
   "outputs": [
    {
     "name": "stdout",
     "output_type": "stream",
     "text": [
      "{'Apple', 'Cherry', 'Banana'}\n"
     ]
    }
   ],
   "source": [
    "#No duplicate items in set\n",
    "\n",
    "fruits = {\"Apple\", \"Banana\", \"Cherry\", \"Apple\"}\n",
    "print(fruits)"
   ]
  },
  {
   "cell_type": "code",
   "execution_count": 6,
   "id": "b3ebcd43-020f-4035-8436-b1b6560426d4",
   "metadata": {},
   "outputs": [
    {
     "name": "stdout",
     "output_type": "stream",
     "text": [
      "3\n"
     ]
    }
   ],
   "source": [
    "#Length of the Set\n",
    "\n",
    "fruits = {\"Apple\", \"Banana\", \"Cherry\", \"Apple\"}\n",
    "print(len(fruits))"
   ]
  },
  {
   "cell_type": "code",
   "execution_count": 8,
   "id": "8d4a3b04-f584-4efb-ace8-5e2ee373a590",
   "metadata": {},
   "outputs": [
    {
     "name": "stdout",
     "output_type": "stream",
     "text": [
      "Apple\n",
      "Cherry\n",
      "Banana\n"
     ]
    }
   ],
   "source": [
    "fruits = {\"Apple\", \"Banana\", \"Cherry\", \"Apple\"}\n",
    "for x in fruits:\n",
    " print(x)"
   ]
  },
  {
   "cell_type": "code",
   "execution_count": 11,
   "id": "e2eb5e5c-1c8c-4b7e-bf08-d8261e034ca3",
   "metadata": {},
   "outputs": [
    {
     "name": "stdout",
     "output_type": "stream",
     "text": [
      "True\n"
     ]
    }
   ],
   "source": [
    "fruits = {\"Apple\", \"Banana\", \"Cherry\", \"Apple\"}\n",
    "print(\"Banana\" in fruits)"
   ]
  },
  {
   "cell_type": "code",
   "execution_count": 12,
   "id": "480e0230-b0d8-4cc9-9e8f-f5fb06476abf",
   "metadata": {},
   "outputs": [
    {
     "name": "stdout",
     "output_type": "stream",
     "text": [
      "{'Pineapple', 'Apple', 'Cherry', 'Banana'}\n"
     ]
    }
   ],
   "source": [
    "#Add the item in the set\n",
    "fruits = {\"Apple\", \"Banana\", \"Cherry\", \"Apple\"}\n",
    "fruits.add(\"Pineapple\")\n",
    "print(fruits)\n"
   ]
  },
  {
   "cell_type": "code",
   "execution_count": 14,
   "id": "9fb88f5c-ec27-4b1e-b108-9efc26ef4e13",
   "metadata": {},
   "outputs": [
    {
     "name": "stdout",
     "output_type": "stream",
     "text": [
      "{'Apple', 'Carrot', 'Cherry', 'Banana', 'Beetroot'}\n"
     ]
    }
   ],
   "source": [
    "#Add sets\n",
    "\n",
    "fruits = {\"Apple\", \"Banana\", \"Cherry\", \"Apple\"}\n",
    "vegetables = {\"Carrot\", \"Beetroot\"}\n",
    "fruits.update(vegetables)\n",
    "print(fruits)"
   ]
  },
  {
   "cell_type": "code",
   "execution_count": 15,
   "id": "0a076ac2-b94c-4ad1-9893-f2ce88c572f8",
   "metadata": {},
   "outputs": [
    {
     "name": "stdout",
     "output_type": "stream",
     "text": [
      "{'Apple', 'Carrot', 'Cherry', 'Banana', 'Beetroot'}\n"
     ]
    }
   ],
   "source": [
    "fruits = {\"Apple\", \"Banana\", \"Cherry\", \"Apple\"}\n",
    "vegetables = {\"Carrot\", \"Beetroot\"}\n",
    "Newset = fruits.union(vegetables)\n",
    "print(Newset)"
   ]
  },
  {
   "cell_type": "code",
   "execution_count": 16,
   "id": "ac98a160-465b-4bc7-a7ff-c0c12c3c4217",
   "metadata": {},
   "outputs": [
    {
     "name": "stdout",
     "output_type": "stream",
     "text": [
      "{'Cherry'}\n"
     ]
    }
   ],
   "source": [
    "fruits = {\"Apple\", \"Banana\", \"Cherry\", \"Apple\"}\n",
    "vegetables = {\"Carrot\", \"Beetroot\", \"Cherry\"}\n",
    "fruits.intersection_update(vegetables)\n",
    "print(fruits)"
   ]
  },
  {
   "cell_type": "code",
   "execution_count": 17,
   "id": "0c795a0d-95d8-46aa-ad34-f035b372cb15",
   "metadata": {},
   "outputs": [
    {
     "name": "stdout",
     "output_type": "stream",
     "text": [
      "{'Apple', 'Carrot', 'Banana', 'Beetroot'}\n"
     ]
    }
   ],
   "source": [
    "fruits = {\"Apple\", \"Banana\", \"Cherry\", \"Apple\"}\n",
    "vegetables = {\"Carrot\", \"Beetroot\", \"Cherry\"}\n",
    "fruits.symmetric_difference_update(vegetables)\n",
    "print(fruits)"
   ]
  },
  {
   "cell_type": "code",
   "execution_count": 19,
   "id": "53ea53b8-4b53-49c1-9f87-ba1d680c9f41",
   "metadata": {},
   "outputs": [
    {
     "name": "stdout",
     "output_type": "stream",
     "text": [
      "{'Vehicle': 'Car', 'Name': 'Benz', 'year': 2024}\n"
     ]
    }
   ],
   "source": [
    "#Dictionaries\n",
    "\n",
    "mydict = { \n",
    "    \"Vehicle\" : \"Car\",\n",
    "    \"Name\" : \"Benz\",\n",
    "    \"year\" : 2024\n",
    "}\n",
    "\n",
    "print(mydict)"
   ]
  },
  {
   "cell_type": "code",
   "execution_count": 21,
   "id": "a0b715d1-133e-4b11-b753-5cd736237509",
   "metadata": {},
   "outputs": [
    {
     "name": "stdout",
     "output_type": "stream",
     "text": [
      "Benz\n"
     ]
    }
   ],
   "source": [
    "mydict = { \n",
    "    \"Vehicle\" : \"Car\",\n",
    "    \"Name\" : \"Benz\",\n",
    "    \"year\" : 2024\n",
    "}\n",
    "print(mydict[\"Name\"])"
   ]
  },
  {
   "cell_type": "code",
   "execution_count": 23,
   "id": "0b8a2b9c-07a3-4b9a-b931-a307d98bc556",
   "metadata": {},
   "outputs": [
    {
     "name": "stdout",
     "output_type": "stream",
     "text": [
      "dict_keys(['Vehicle', 'Name', 'year'])\n",
      "dict_keys(['Vehicle', 'Name', 'year', 'Color'])\n"
     ]
    }
   ],
   "source": [
    "#Adding values in dictionaries\n",
    "mydict = { \n",
    "    \"Vehicle\" : \"Car\",\n",
    "    \"Name\" : \"Benz\",\n",
    "    \"year\" : 2024\n",
    "}\n",
    "x = mydict.keys()\n",
    "print(x)\n",
    "mydict[\"Color\"] = \"Black\"\n",
    "print(x)\n"
   ]
  },
  {
   "cell_type": "code",
   "execution_count": 24,
   "id": "680e6a4d-ce3d-4c3a-ade1-805132e72e05",
   "metadata": {},
   "outputs": [
    {
     "name": "stdout",
     "output_type": "stream",
     "text": [
      "Vehicle\n",
      "Name\n",
      "year\n"
     ]
    }
   ],
   "source": [
    "mydict = { \n",
    "    \"Vehicle\" : \"Car\",\n",
    "    \"Name\" : \"Benz\",\n",
    "    \"year\" : 2024\n",
    "}\n",
    "for x in mydict:\n",
    "    print(x)"
   ]
  },
  {
   "cell_type": "code",
   "execution_count": 25,
   "id": "a60dadb1-3377-4c81-8f0b-4835d707ded8",
   "metadata": {},
   "outputs": [
    {
     "name": "stdout",
     "output_type": "stream",
     "text": [
      "Car\n",
      "Benz\n",
      "2024\n"
     ]
    }
   ],
   "source": [
    "mydict = { \n",
    "    \"Vehicle\" : \"Car\",\n",
    "    \"Name\" : \"Benz\",\n",
    "    \"year\" : 2024\n",
    "}\n",
    "for x in mydict:\n",
    "    print(mydict[x])"
   ]
  },
  {
   "cell_type": "code",
   "execution_count": 26,
   "id": "7f3f82ec-000d-4b85-a101-49a30237a862",
   "metadata": {},
   "outputs": [
    {
     "name": "stdout",
     "output_type": "stream",
     "text": [
      "Car\n",
      "Benz\n",
      "2024\n"
     ]
    }
   ],
   "source": [
    "mydict = { \n",
    "    \"Vehicle\" : \"Car\",\n",
    "    \"Name\" : \"Benz\",\n",
    "    \"year\" : 2024\n",
    "}\n",
    "for x in mydict.values():\n",
    "    print(x)"
   ]
  },
  {
   "cell_type": "code",
   "execution_count": 27,
   "id": "3de19f35-21d8-4e35-a158-e7cc3a7b7ac8",
   "metadata": {},
   "outputs": [
    {
     "name": "stdout",
     "output_type": "stream",
     "text": [
      "Vehicle\n",
      "Name\n",
      "year\n"
     ]
    }
   ],
   "source": [
    "mydict = { \n",
    "    \"Vehicle\" : \"Car\",\n",
    "    \"Name\" : \"Benz\",\n",
    "    \"year\" : 2024\n",
    "}\n",
    "for x in mydict.keys():\n",
    "    print(x)"
   ]
  },
  {
   "cell_type": "code",
   "execution_count": 29,
   "id": "0c002e1e-74f8-4bb5-a867-0508474097fc",
   "metadata": {},
   "outputs": [
    {
     "name": "stdout",
     "output_type": "stream",
     "text": [
      "Vehicle Car\n",
      "Name Benz\n",
      "year 2024\n"
     ]
    }
   ],
   "source": [
    "mydict = { \n",
    "    \"Vehicle\" : \"Car\",\n",
    "    \"Name\" : \"Benz\",\n",
    "    \"year\" : 2024\n",
    "}\n",
    "for x, y in mydict.items():\n",
    "    print(x, y)"
   ]
  },
  {
   "cell_type": "code",
   "execution_count": null,
   "id": "6c790c48-b46f-44ee-833c-5cc920f73052",
   "metadata": {},
   "outputs": [],
   "source": []
  }
 ],
 "metadata": {
  "kernelspec": {
   "display_name": "Python 3 (ipykernel)",
   "language": "python",
   "name": "python3"
  },
  "language_info": {
   "codemirror_mode": {
    "name": "ipython",
    "version": 3
   },
   "file_extension": ".py",
   "mimetype": "text/x-python",
   "name": "python",
   "nbconvert_exporter": "python",
   "pygments_lexer": "ipython3",
   "version": "3.12.1"
  }
 },
 "nbformat": 4,
 "nbformat_minor": 5
}
