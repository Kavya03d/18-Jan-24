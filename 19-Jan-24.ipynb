{
 "cells": [
  {
   "cell_type": "code",
   "execution_count": 1,
   "id": "49242519-f729-4e87-a5af-d3254af9d283",
   "metadata": {},
   "outputs": [
    {
     "name": "stdout",
     "output_type": "stream",
     "text": [
      "KIRAN\n",
      "KIRAN\n",
      "KIRAN\n"
     ]
    }
   ],
   "source": [
    "myname = \"KIRAN\"\n",
    "Myname = \"KIRAN\"\n",
    "_myname = \"KIRAN\"\n",
    "\n",
    "print(myname)\n",
    "print(Myname)\n",
    "print(_myname)\n"
   ]
  },
  {
   "cell_type": "code",
   "execution_count": 2,
   "id": "4f02fc0f-9ff0-4b8c-8b6e-f35d6cefead3",
   "metadata": {},
   "outputs": [
    {
     "ename": "SyntaxError",
     "evalue": "invalid syntax (3172332864.py, line 3)",
     "output_type": "error",
     "traceback": [
      "\u001b[1;36m  Cell \u001b[1;32mIn[2], line 3\u001b[1;36m\u001b[0m\n\u001b[1;33m    print(a) print(b) print(c)\u001b[0m\n\u001b[1;37m             ^\u001b[0m\n\u001b[1;31mSyntaxError\u001b[0m\u001b[1;31m:\u001b[0m invalid syntax\n"
     ]
    }
   ],
   "source": [
    "a, b, c = \"I am learning python\", \"Hello\", \"I am Kiran\"\n",
    "\n",
    "print(a) print(b) print(c)"
   ]
  },
  {
   "cell_type": "code",
   "execution_count": 3,
   "id": "c4c5510e-e88a-4b90-ba3c-a61a32854f67",
   "metadata": {},
   "outputs": [
    {
     "name": "stdout",
     "output_type": "stream",
     "text": [
      "I am learning python\n",
      "Hello\n",
      "I am Kiran\n"
     ]
    }
   ],
   "source": [
    "a, b, c = \"I am learning python\", \"Hello\", \"I am Kiran\"\n",
    "\n",
    "print(a)\n",
    "print(b)\n",
    "print(c)"
   ]
  },
  {
   "cell_type": "code",
   "execution_count": 4,
   "id": "041b19f7-1aeb-4891-9612-9df81651ad00",
   "metadata": {},
   "outputs": [
    {
     "ename": "SyntaxError",
     "evalue": "unterminated string literal (detected at line 1) (1591648368.py, line 1)",
     "output_type": "error",
     "traceback": [
      "\u001b[1;36m  Cell \u001b[1;32mIn[4], line 1\u001b[1;36m\u001b[0m\n\u001b[1;33m    a = b= c = 'Karishma is my sissooo\"\u001b[0m\n\u001b[1;37m               ^\u001b[0m\n\u001b[1;31mSyntaxError\u001b[0m\u001b[1;31m:\u001b[0m unterminated string literal (detected at line 1)\n"
     ]
    }
   ],
   "source": [
    "a = b= c = 'Karishma is my sissooo\"\n",
    "\n",
    "print(a)\n",
    "print(b)\n",
    "print(c)"
   ]
  },
  {
   "cell_type": "code",
   "execution_count": 5,
   "id": "44f10788-948e-4171-8467-af73c46ba147",
   "metadata": {},
   "outputs": [
    {
     "ename": "SyntaxError",
     "evalue": "unterminated string literal (detected at line 1) (2206212327.py, line 1)",
     "output_type": "error",
     "traceback": [
      "\u001b[1;36m  Cell \u001b[1;32mIn[5], line 1\u001b[1;36m\u001b[0m\n\u001b[1;33m    a = b = c = 'Karishma is my sissooo\"\u001b[0m\n\u001b[1;37m                ^\u001b[0m\n\u001b[1;31mSyntaxError\u001b[0m\u001b[1;31m:\u001b[0m unterminated string literal (detected at line 1)\n"
     ]
    }
   ],
   "source": [
    "a = b = c = 'Karishma is my sissooo\"\n",
    "\n",
    "print(a)\n",
    "print(b)\n",
    "print(c)"
   ]
  },
  {
   "cell_type": "code",
   "execution_count": 6,
   "id": "025f4640-8c7c-42d9-9cc1-4d517fd2c51b",
   "metadata": {},
   "outputs": [
    {
     "name": "stdout",
     "output_type": "stream",
     "text": [
      "Karishma is my sissooo\n",
      "Karishma is my sissooo\n",
      "Karishma is my sissooo\n"
     ]
    }
   ],
   "source": [
    "a = b = c = 'Karishma is my sissooo'\n",
    "\n",
    "print(a)\n",
    "print(b)\n",
    "print(c)"
   ]
  },
  {
   "cell_type": "code",
   "execution_count": 7,
   "id": "a3f0123a-183a-4428-904f-28e92927e679",
   "metadata": {},
   "outputs": [
    {
     "name": "stdout",
     "output_type": "stream",
     "text": [
      "compact\n",
      "Lipstick\n",
      "Kajal\n",
      "Eyeliner\n"
     ]
    }
   ],
   "source": [
    "cosmetics = [\"compact\", \"Lipstick\", \"Kajal\", \"Eyeliner\"]\n",
    "a, b, c, d = cosmetics\n",
    "\n",
    "print(a)\n",
    "print(b)\n",
    "print(c)\n",
    "print(d)"
   ]
  },
  {
   "cell_type": "code",
   "execution_count": 8,
   "id": "f92dcfea-0892-4fc8-a54b-ab8d462643d2",
   "metadata": {},
   "outputs": [
    {
     "name": "stdout",
     "output_type": "stream",
     "text": [
      "I am learning python Hello I am Kiran\n"
     ]
    }
   ],
   "source": [
    "a, b, c = \"I am learning python\", \"Hello\", \"I am Kiran\"\n",
    "\n",
    "print(a, b, c)"
   ]
  },
  {
   "cell_type": "code",
   "execution_count": 9,
   "id": "32be7b09-7fb6-43c0-8b4d-9b30028f4345",
   "metadata": {},
   "outputs": [
    {
     "name": "stdout",
     "output_type": "stream",
     "text": [
      "I am learning pythonHelloI am Kiran\n"
     ]
    }
   ],
   "source": [
    "a, b, c = \"I am learning python\", \"Hello\", \"I am Kiran\"\n",
    "\n",
    "print(a + b + c)"
   ]
  },
  {
   "cell_type": "code",
   "execution_count": 10,
   "id": "7f44b6c5-e90c-4108-ac0f-e8af0a002325",
   "metadata": {},
   "outputs": [
    {
     "name": "stdout",
     "output_type": "stream",
     "text": [
      "Hello I am Kiran\n"
     ]
    }
   ],
   "source": [
    "a = \"Hello \"\n",
    "b = \"I am \"\n",
    "c = \"Kiran\"\n",
    "\n",
    "print(a + b + c)"
   ]
  },
  {
   "cell_type": "code",
   "execution_count": 11,
   "id": "7160182f-e398-4608-ae49-a32b641b1c15",
   "metadata": {},
   "outputs": [
    {
     "name": "stdout",
     "output_type": "stream",
     "text": [
      "HelloI amKiran\n"
     ]
    }
   ],
   "source": [
    "a = \"Hello\"\n",
    "b = \"I am\"\n",
    "c = \"Kiran\"\n",
    "\n",
    "print(a + b + c)"
   ]
  },
  {
   "cell_type": "code",
   "execution_count": 12,
   "id": "6ae56fe7-ecb4-4e20-8c4e-5564bd02ab9c",
   "metadata": {},
   "outputs": [
    {
     "name": "stdout",
     "output_type": "stream",
     "text": [
      "HelloIamKiran\n"
     ]
    }
   ],
   "source": [
    "a = \"Hello\"\n",
    "b = \"Iam\"\n",
    "c = \"Kiran\"\n",
    "\n",
    "print(a + b + c)"
   ]
  },
  {
   "cell_type": "code",
   "execution_count": 13,
   "id": "d0e3363f-af4c-44d6-a0bb-57f341ff19d1",
   "metadata": {},
   "outputs": [
    {
     "name": "stdout",
     "output_type": "stream",
     "text": [
      "100\n"
     ]
    }
   ],
   "source": [
    "a = 10\n",
    "b = 50\n",
    "c = 40\n",
    "\n",
    "print(a + b + c)"
   ]
  },
  {
   "cell_type": "code",
   "execution_count": 14,
   "id": "a1f8b330-58e8-40a5-b75a-82ef3cbd8aab",
   "metadata": {},
   "outputs": [
    {
     "ename": "TypeError",
     "evalue": "unsupported operand type(s) for +: 'int' and 'str'",
     "output_type": "error",
     "traceback": [
      "\u001b[1;31m---------------------------------------------------------------------------\u001b[0m",
      "\u001b[1;31mTypeError\u001b[0m                                 Traceback (most recent call last)",
      "Cell \u001b[1;32mIn[14], line 5\u001b[0m\n\u001b[0;32m      2\u001b[0m b \u001b[38;5;241m=\u001b[39m \u001b[38;5;241m50\u001b[39m\n\u001b[0;32m      3\u001b[0m c \u001b[38;5;241m=\u001b[39m \u001b[38;5;124m\"\u001b[39m\u001b[38;5;124mis 60\u001b[39m\u001b[38;5;124m\"\u001b[39m\n\u001b[1;32m----> 5\u001b[0m \u001b[38;5;28mprint\u001b[39m(\u001b[43ma\u001b[49m\u001b[43m \u001b[49m\u001b[38;5;241;43m+\u001b[39;49m\u001b[43m \u001b[49m\u001b[43mb\u001b[49m\u001b[43m \u001b[49m\u001b[38;5;241;43m+\u001b[39;49m\u001b[43m \u001b[49m\u001b[43mc\u001b[49m)\n",
      "\u001b[1;31mTypeError\u001b[0m: unsupported operand type(s) for +: 'int' and 'str'"
     ]
    }
   ],
   "source": [
    "a = 10\n",
    "b = 50\n",
    "c = \"is 60\"\n",
    "\n",
    "print(a + b + c)"
   ]
  },
  {
   "cell_type": "code",
   "execution_count": 15,
   "id": "bd152d90-1241-40a9-b36f-5260682340cf",
   "metadata": {},
   "outputs": [
    {
     "name": "stdout",
     "output_type": "stream",
     "text": [
      "10 50 is 60\n"
     ]
    }
   ],
   "source": [
    "a = 10\n",
    "b = 50\n",
    "c = \"is 60\"\n",
    "\n",
    "print(a, b, c)"
   ]
  },
  {
   "cell_type": "code",
   "execution_count": 16,
   "id": "d4ee67f9-eabe-4d46-b650-56e0189c1ab7",
   "metadata": {},
   "outputs": [
    {
     "ename": "IndentationError",
     "evalue": "unexpected indent (4247729504.py, line 3)",
     "output_type": "error",
     "traceback": [
      "\u001b[1;36m  Cell \u001b[1;32mIn[16], line 3\u001b[1;36m\u001b[0m\n\u001b[1;33m    def myfunc()\u001b[0m\n\u001b[1;37m    ^\u001b[0m\n\u001b[1;31mIndentationError\u001b[0m\u001b[1;31m:\u001b[0m unexpected indent\n"
     ]
    }
   ],
   "source": [
    "a = \"I am learning Python\"\n",
    "\n",
    "    def myfunc()\n",
    "        print(\"Hello\" + a)\n",
    "\n",
    "myfunc()\n"
   ]
  },
  {
   "cell_type": "code",
   "execution_count": 17,
   "id": "16e5d746-9cb9-4492-9900-97c2885437d6",
   "metadata": {},
   "outputs": [
    {
     "ename": "IndentationError",
     "evalue": "unexpected indent (1900065248.py, line 2)",
     "output_type": "error",
     "traceback": [
      "\u001b[1;36m  Cell \u001b[1;32mIn[17], line 2\u001b[1;36m\u001b[0m\n\u001b[1;33m    def myfunc():\u001b[0m\n\u001b[1;37m    ^\u001b[0m\n\u001b[1;31mIndentationError\u001b[0m\u001b[1;31m:\u001b[0m unexpected indent\n"
     ]
    }
   ],
   "source": [
    "a = \"I am learning Python\"\n",
    " def myfunc():\n",
    "   print(\"Hello\" + a)\n",
    "\n",
    "myfunc()"
   ]
  },
  {
   "cell_type": "code",
   "execution_count": 18,
   "id": "6afaf1d7-3a93-449f-89ba-abd2f6b40370",
   "metadata": {},
   "outputs": [
    {
     "name": "stdout",
     "output_type": "stream",
     "text": [
      "HelloI am learning Python\n"
     ]
    }
   ],
   "source": [
    "a = \"I am learning Python\"\n",
    "def myfunc():\n",
    "   print(\"Hello\" + a)\n",
    "\n",
    "myfunc()"
   ]
  },
  {
   "cell_type": "code",
   "execution_count": 19,
   "id": "5ce35ce8-ee27-49d9-8820-06e45a648563",
   "metadata": {},
   "outputs": [
    {
     "name": "stdout",
     "output_type": "stream",
     "text": [
      "Hello I am learning Python\n"
     ]
    }
   ],
   "source": [
    "a = \"I am learning Python\"\n",
    "def myfunc():\n",
    "   print(\"Hello \" + a)\n",
    "\n",
    "myfunc()"
   ]
  },
  {
   "cell_type": "code",
   "execution_count": 20,
   "id": "bda6dedb-44b4-4515-8b79-ee70f45540c7",
   "metadata": {},
   "outputs": [],
   "source": [
    "a = \"I am learning Python\"\n",
    "def myfunc():\n",
    "   print(\"Hello \" + a)"
   ]
  },
  {
   "cell_type": "code",
   "execution_count": 21,
   "id": "06176be2-5357-49b8-82f6-1979bea99518",
   "metadata": {},
   "outputs": [
    {
     "name": "stdout",
     "output_type": "stream",
     "text": [
      "Hello I am learning Python\n"
     ]
    }
   ],
   "source": [
    "a = \"I am learning Python\"\n",
    "def myfunc():\n",
    "   print(\"Hello \" + a)\n",
    "\n",
    "myfunc()"
   ]
  },
  {
   "cell_type": "code",
   "execution_count": 22,
   "id": "a4fb4efa-28e2-4110-8d4d-d9c414b5a015",
   "metadata": {},
   "outputs": [
    {
     "ename": "SyntaxError",
     "evalue": "invalid syntax (3630128592.py, line 4)",
     "output_type": "error",
     "traceback": [
      "\u001b[1;36m  Cell \u001b[1;32mIn[22], line 4\u001b[1;36m\u001b[0m\n\u001b[1;33m    def myfunc(a + b + c)\u001b[0m\n\u001b[1;37m                 ^\u001b[0m\n\u001b[1;31mSyntaxError\u001b[0m\u001b[1;31m:\u001b[0m invalid syntax\n"
     ]
    }
   ],
   "source": [
    "a = 10\n",
    "b = 20\n",
    "c = 20\n",
    "def myfunc(a + b + c)\n",
    "  print(myfunc())\n",
    "myfunc()"
   ]
  },
  {
   "cell_type": "code",
   "execution_count": 23,
   "id": "e2b6549e-d750-4fce-ba5d-b9c724269c4d",
   "metadata": {},
   "outputs": [
    {
     "ename": "SyntaxError",
     "evalue": "invalid syntax (56721751.py, line 4)",
     "output_type": "error",
     "traceback": [
      "\u001b[1;36m  Cell \u001b[1;32mIn[23], line 4\u001b[1;36m\u001b[0m\n\u001b[1;33m    def myfunc(a+b+c)\u001b[0m\n\u001b[1;37m                ^\u001b[0m\n\u001b[1;31mSyntaxError\u001b[0m\u001b[1;31m:\u001b[0m invalid syntax\n"
     ]
    }
   ],
   "source": [
    "a = 10\n",
    "b = 20\n",
    "c = 20\n",
    "def myfunc(a+b+c)\n",
    "  print(myfunc())\n",
    "myfunc()"
   ]
  },
  {
   "cell_type": "code",
   "execution_count": 24,
   "id": "7e4a914f-a1d9-46c2-a629-ac3d2676f579",
   "metadata": {},
   "outputs": [
    {
     "ename": "SyntaxError",
     "evalue": "expected ':' (2327773541.py, line 1)",
     "output_type": "error",
     "traceback": [
      "\u001b[1;36m  Cell \u001b[1;32mIn[24], line 1\u001b[1;36m\u001b[0m\n\u001b[1;33m    def myfunc(a = 10, b = 20)\u001b[0m\n\u001b[1;37m                              ^\u001b[0m\n\u001b[1;31mSyntaxError\u001b[0m\u001b[1;31m:\u001b[0m expected ':'\n"
     ]
    }
   ],
   "source": [
    "def myfunc(a = 10, b = 20)\n",
    "  sum(a + b)\n",
    "   print(sum)\n",
    "myfunc()"
   ]
  },
  {
   "cell_type": "code",
   "execution_count": 25,
   "id": "45cd1389-c102-45e5-b31a-7a1385cfaf18",
   "metadata": {},
   "outputs": [
    {
     "ename": "IndentationError",
     "evalue": "unexpected indent (939403834.py, line 3)",
     "output_type": "error",
     "traceback": [
      "\u001b[1;36m  Cell \u001b[1;32mIn[25], line 3\u001b[1;36m\u001b[0m\n\u001b[1;33m    print(sum)\u001b[0m\n\u001b[1;37m    ^\u001b[0m\n\u001b[1;31mIndentationError\u001b[0m\u001b[1;31m:\u001b[0m unexpected indent\n"
     ]
    }
   ],
   "source": [
    "def myfunc(a = 10, b = 20):\n",
    "  sum(a + b)\n",
    "   print(sum)\n",
    "myfunc()"
   ]
  },
  {
   "cell_type": "code",
   "execution_count": 26,
   "id": "5b053b42-938f-418e-8f93-e2eecfe8e0b5",
   "metadata": {},
   "outputs": [
    {
     "ename": "TypeError",
     "evalue": "'int' object is not iterable",
     "output_type": "error",
     "traceback": [
      "\u001b[1;31m---------------------------------------------------------------------------\u001b[0m",
      "\u001b[1;31mTypeError\u001b[0m                                 Traceback (most recent call last)",
      "Cell \u001b[1;32mIn[26], line 4\u001b[0m\n\u001b[0;32m      2\u001b[0m     \u001b[38;5;28msum\u001b[39m(a \u001b[38;5;241m+\u001b[39m b)\n\u001b[0;32m      3\u001b[0m     \u001b[38;5;28mprint\u001b[39m(\u001b[38;5;28msum\u001b[39m)\n\u001b[1;32m----> 4\u001b[0m \u001b[43mmyfunc\u001b[49m\u001b[43m(\u001b[49m\u001b[43m)\u001b[49m\n",
      "Cell \u001b[1;32mIn[26], line 2\u001b[0m, in \u001b[0;36mmyfunc\u001b[1;34m(a, b)\u001b[0m\n\u001b[0;32m      1\u001b[0m \u001b[38;5;28;01mdef\u001b[39;00m \u001b[38;5;21mmyfunc\u001b[39m(a \u001b[38;5;241m=\u001b[39m \u001b[38;5;241m10\u001b[39m, b \u001b[38;5;241m=\u001b[39m \u001b[38;5;241m20\u001b[39m):\n\u001b[1;32m----> 2\u001b[0m     \u001b[38;5;28;43msum\u001b[39;49m\u001b[43m(\u001b[49m\u001b[43ma\u001b[49m\u001b[43m \u001b[49m\u001b[38;5;241;43m+\u001b[39;49m\u001b[43m \u001b[49m\u001b[43mb\u001b[49m\u001b[43m)\u001b[49m\n\u001b[0;32m      3\u001b[0m     \u001b[38;5;28mprint\u001b[39m(\u001b[38;5;28msum\u001b[39m)\n",
      "\u001b[1;31mTypeError\u001b[0m: 'int' object is not iterable"
     ]
    }
   ],
   "source": [
    "def myfunc(a = 10, b = 20):\n",
    "    sum(a + b)\n",
    "    print(sum)\n",
    "myfunc()"
   ]
  },
  {
   "cell_type": "code",
   "execution_count": 27,
   "id": "2547c49c-0ed0-467c-8148-ddbef9fef71b",
   "metadata": {},
   "outputs": [
    {
     "ename": "SyntaxError",
     "evalue": "expected ':' (2352208476.py, line 3)",
     "output_type": "error",
     "traceback": [
      "\u001b[1;36m  Cell \u001b[1;32mIn[27], line 3\u001b[1;36m\u001b[0m\n\u001b[1;33m    def myfunc()\u001b[0m\n\u001b[1;37m                ^\u001b[0m\n\u001b[1;31mSyntaxError\u001b[0m\u001b[1;31m:\u001b[0m expected ':'\n"
     ]
    }
   ],
   "source": [
    "a = 10\n",
    "b = 20\n",
    "def myfunc()\n",
    " print(a + b)\n",
    "myfunc()"
   ]
  },
  {
   "cell_type": "code",
   "execution_count": 28,
   "id": "5962fb22-ba02-4c21-8eda-cd2272abd2b7",
   "metadata": {},
   "outputs": [
    {
     "name": "stdout",
     "output_type": "stream",
     "text": [
      "30\n"
     ]
    }
   ],
   "source": [
    "a = 10\n",
    "b = 20\n",
    "def myfunc():\n",
    " print(a + b)\n",
    "myfunc()"
   ]
  },
  {
   "cell_type": "code",
   "execution_count": null,
   "id": "870713bf-f542-4859-b9df-1a5df9cc7e4a",
   "metadata": {},
   "outputs": [],
   "source": []
  }
 ],
 "metadata": {
  "kernelspec": {
   "display_name": "Python 3 (ipykernel)",
   "language": "python",
   "name": "python3"
  },
  "language_info": {
   "codemirror_mode": {
    "name": "ipython",
    "version": 3
   },
   "file_extension": ".py",
   "mimetype": "text/x-python",
   "name": "python",
   "nbconvert_exporter": "python",
   "pygments_lexer": "ipython3",
   "version": "3.12.1"
  }
 },
 "nbformat": 4,
 "nbformat_minor": 5
}
