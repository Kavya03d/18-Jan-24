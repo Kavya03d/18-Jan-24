{
 "cells": [
  {
   "cell_type": "code",
   "execution_count": 2,
   "id": "70cef739-53db-4307-8070-11af04ea4103",
   "metadata": {},
   "outputs": [
    {
     "name": "stdout",
     "output_type": "stream",
     "text": [
      "True\n"
     ]
    }
   ],
   "source": [
    "#Logical Operators.\n",
    "\n",
    "a = 20\n",
    "print(a < 30 and a < 40)"
   ]
  },
  {
   "cell_type": "code",
   "execution_count": 3,
   "id": "124fa1f8-84bd-40e9-ae11-68e27168f2d6",
   "metadata": {},
   "outputs": [
    {
     "name": "stdout",
     "output_type": "stream",
     "text": [
      "True\n"
     ]
    }
   ],
   "source": [
    "#Logical Operators.\n",
    "\n",
    "a = 20\n",
    "print(a > 30 or a < 40)"
   ]
  },
  {
   "cell_type": "code",
   "execution_count": 4,
   "id": "5cc71689-e0ba-4531-afa6-efae08d3bfb4",
   "metadata": {},
   "outputs": [
    {
     "name": "stdout",
     "output_type": "stream",
     "text": [
      "False\n"
     ]
    }
   ],
   "source": [
    "#Logical Operators.\n",
    "\n",
    "a = 20\n",
    "print(not(a < 30, a < 40))"
   ]
  },
  {
   "cell_type": "code",
   "execution_count": 5,
   "id": "b456c173-9a7c-47e9-849b-306c0092b6b8",
   "metadata": {},
   "outputs": [
    {
     "name": "stdout",
     "output_type": "stream",
     "text": [
      "False\n",
      "True\n",
      "False\n",
      "True\n"
     ]
    }
   ],
   "source": [
    "#Identity Operators\n",
    "\n",
    "x = [\"apple\", \"banana\"]\n",
    "y = [\"apple\", \"banana\"]\n",
    "z = y\n",
    "\n",
    "print(x is y)\n",
    "print(z is y)\n",
    "print(z is x)\n",
    "print(x == y)"
   ]
  },
  {
   "cell_type": "code",
   "execution_count": 6,
   "id": "f4ab4142-bf35-42e0-ad0c-0c3a7926916f",
   "metadata": {},
   "outputs": [
    {
     "name": "stdout",
     "output_type": "stream",
     "text": [
      "True\n",
      "False\n",
      "True\n",
      "False\n"
     ]
    }
   ],
   "source": [
    "#Identity Operators\n",
    "\n",
    "x = [\"apple\", \"banana\"]\n",
    "y = [\"apple\", \"banana\"]\n",
    "z = y\n",
    "\n",
    "print(x is not y)\n",
    "print(z is not y)\n",
    "print(z is not x)\n",
    "print(x != y)"
   ]
  },
  {
   "cell_type": "code",
   "execution_count": 7,
   "id": "9f42a7bd-93e8-4894-a3dd-3baf855f6226",
   "metadata": {},
   "outputs": [
    {
     "name": "stdout",
     "output_type": "stream",
     "text": [
      "True\n"
     ]
    }
   ],
   "source": [
    "#Membership Operators\n",
    "\n",
    "x = [\"Football\", \"Basketball\", \"Throwball\"]\n",
    "print(\"Throwball\" in x)"
   ]
  },
  {
   "cell_type": "code",
   "execution_count": 8,
   "id": "fba2e584-0ec7-4261-af62-0009464e5bcb",
   "metadata": {},
   "outputs": [
    {
     "name": "stdout",
     "output_type": "stream",
     "text": [
      "True\n"
     ]
    }
   ],
   "source": [
    "#Membership Operators\n",
    "\n",
    "x = [\"Football\", \"Basketball\", \"Throwball\"]\n",
    "print(\"Shuttle\" not in x)"
   ]
  },
  {
   "cell_type": "code",
   "execution_count": 9,
   "id": "023d8075-8ec6-499c-b50f-ebb2c5300c7d",
   "metadata": {},
   "outputs": [
    {
     "name": "stdout",
     "output_type": "stream",
     "text": [
      "False\n"
     ]
    }
   ],
   "source": [
    "#Membership Operators\n",
    "\n",
    "x = [\"Football\", \"Basketball\", \"Throwball\"]\n",
    "print(\"Shuttle\" in x)"
   ]
  },
  {
   "cell_type": "code",
   "execution_count": 10,
   "id": "012e93a3-d53d-494d-949f-258975a092ba",
   "metadata": {},
   "outputs": [
    {
     "name": "stdout",
     "output_type": "stream",
     "text": [
      "20.0\n"
     ]
    }
   ],
   "source": [
    "#Operator Precedence\n",
    "\n",
    "a = 10\n",
    "b = 10\n",
    "print((a + b) * (a / b))"
   ]
  },
  {
   "cell_type": "code",
   "execution_count": 11,
   "id": "5f40e069-6429-47cb-b409-56b6d6b0df2f",
   "metadata": {},
   "outputs": [
    {
     "name": "stdout",
     "output_type": "stream",
     "text": [
      "600\n"
     ]
    }
   ],
   "source": [
    "print(100 + 10 * 50)"
   ]
  },
  {
   "cell_type": "code",
   "execution_count": null,
   "id": "5deb475f-d834-41c3-9c9e-aa0551441add",
   "metadata": {},
   "outputs": [],
   "source": []
  }
 ],
 "metadata": {
  "kernelspec": {
   "display_name": "Python 3 (ipykernel)",
   "language": "python",
   "name": "python3"
  },
  "language_info": {
   "codemirror_mode": {
    "name": "ipython",
    "version": 3
   },
   "file_extension": ".py",
   "mimetype": "text/x-python",
   "name": "python",
   "nbconvert_exporter": "python",
   "pygments_lexer": "ipython3",
   "version": "3.12.1"
  }
 },
 "nbformat": 4,
 "nbformat_minor": 5
}
