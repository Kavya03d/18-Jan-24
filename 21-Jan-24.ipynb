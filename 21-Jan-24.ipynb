{
 "cells": [
  {
   "cell_type": "code",
   "execution_count": 1,
   "id": "58b32211-fc92-4467-8af8-f2c1ef6cd9cb",
   "metadata": {},
   "outputs": [
    {
     "name": "stdout",
     "output_type": "stream",
     "text": [
      "a is even\n"
     ]
    }
   ],
   "source": [
    "a = 2\n",
    "b = 3\n",
    "\n",
    "def myfunc():\n",
    "    if (a % 2 ) == 0:\n",
    "        print(\"a is even\")\n",
    "    else:\n",
    "        print(\"a is odd\")\n",
    "myfunc()"
   ]
  },
  {
   "cell_type": "code",
   "execution_count": 2,
   "id": "a5f47e5d-827a-4858-9e94-17ece0856d0d",
   "metadata": {},
   "outputs": [
    {
     "name": "stdout",
     "output_type": "stream",
     "text": [
      "a is even\n",
      "b is Odd\n"
     ]
    }
   ],
   "source": [
    "a = 2\n",
    "b = 3\n",
    "\n",
    "def myfunc():\n",
    "    if (a % 2 ) == 0:\n",
    "        print(\"a is even\")\n",
    "    else:\n",
    "        print(\"a is odd\")\n",
    "    if (b % 2 ) == 0:\n",
    "        print(\"b is even\")\n",
    "    else:\n",
    "        print(\"b is Odd\")\n",
    "myfunc()"
   ]
  },
  {
   "cell_type": "code",
   "execution_count": 3,
   "id": "d121d530-f716-4812-868e-bcef50dda101",
   "metadata": {},
   "outputs": [
    {
     "ename": "TypeError",
     "evalue": "unsupported operand type(s) for -: 'int' and 'str'",
     "output_type": "error",
     "traceback": [
      "\u001b[1;31m---------------------------------------------------------------------------\u001b[0m",
      "\u001b[1;31mTypeError\u001b[0m                                 Traceback (most recent call last)",
      "Cell \u001b[1;32mIn[3], line 1\u001b[0m\n\u001b[1;32m----> 1\u001b[0m \u001b[43ma\u001b[49m\u001b[43m \u001b[49m\u001b[38;5;241;43m-\u001b[39;49m\u001b[43m \u001b[49m\u001b[38;5;124;43m\"\u001b[39;49m\u001b[38;5;124;43mkarishma\u001b[39;49m\u001b[38;5;124;43m\"\u001b[39;49m\n\u001b[0;32m      2\u001b[0m \u001b[38;5;28mprint\u001b[39m(\u001b[38;5;28mtype\u001b[39m())\n",
      "\u001b[1;31mTypeError\u001b[0m: unsupported operand type(s) for -: 'int' and 'str'"
     ]
    }
   ],
   "source": [
    "a - \"karishma\"\n",
    "print(type())"
   ]
  },
  {
   "cell_type": "code",
   "execution_count": 4,
   "id": "95af63c6-91e4-49d5-943c-f25ced12638d",
   "metadata": {},
   "outputs": [
    {
     "ename": "TypeError",
     "evalue": "type() takes 1 or 3 arguments",
     "output_type": "error",
     "traceback": [
      "\u001b[1;31m---------------------------------------------------------------------------\u001b[0m",
      "\u001b[1;31mTypeError\u001b[0m                                 Traceback (most recent call last)",
      "Cell \u001b[1;32mIn[4], line 2\u001b[0m\n\u001b[0;32m      1\u001b[0m a \u001b[38;5;241m=\u001b[39m \u001b[38;5;124m\"\u001b[39m\u001b[38;5;124mkarishma\u001b[39m\u001b[38;5;124m\"\u001b[39m\n\u001b[1;32m----> 2\u001b[0m \u001b[38;5;28mprint\u001b[39m(\u001b[38;5;28;43mtype\u001b[39;49m\u001b[43m(\u001b[49m\u001b[43m)\u001b[49m)\n",
      "\u001b[1;31mTypeError\u001b[0m: type() takes 1 or 3 arguments"
     ]
    }
   ],
   "source": [
    "a = \"karishma\"\n",
    "print(type())"
   ]
  },
  {
   "cell_type": "code",
   "execution_count": 5,
   "id": "ada4cded-4ac1-41a5-90ca-34e2faa3acc3",
   "metadata": {},
   "outputs": [
    {
     "name": "stdout",
     "output_type": "stream",
     "text": [
      "<class 'str'>\n"
     ]
    }
   ],
   "source": [
    "a = \"Karishma\"\n",
    "print(type(a))"
   ]
  },
  {
   "cell_type": "code",
   "execution_count": 6,
   "id": "a040f448-f4ee-4155-a1e9-5736126c2369",
   "metadata": {},
   "outputs": [
    {
     "name": "stdout",
     "output_type": "stream",
     "text": [
      "<class 'int'>\n"
     ]
    }
   ],
   "source": [
    "a = 100\n",
    "print(type(a))"
   ]
  },
  {
   "cell_type": "code",
   "execution_count": 7,
   "id": "28f6ee52-38de-4063-aac0-20cc33a7f67a",
   "metadata": {},
   "outputs": [
    {
     "name": "stdout",
     "output_type": "stream",
     "text": [
      "<class 'float'>\n"
     ]
    }
   ],
   "source": [
    "a = 3.5\n",
    "print(type(a))"
   ]
  },
  {
   "cell_type": "code",
   "execution_count": 8,
   "id": "c6aefe43-15fb-4f5d-b414-da9a1d5ff5ec",
   "metadata": {},
   "outputs": [
    {
     "ename": "SyntaxError",
     "evalue": "invalid decimal literal (413395798.py, line 1)",
     "output_type": "error",
     "traceback": [
      "\u001b[1;36m  Cell \u001b[1;32mIn[8], line 1\u001b[1;36m\u001b[0m\n\u001b[1;33m    x = 10i\u001b[0m\n\u001b[1;37m         ^\u001b[0m\n\u001b[1;31mSyntaxError\u001b[0m\u001b[1;31m:\u001b[0m invalid decimal literal\n"
     ]
    }
   ],
   "source": [
    "x = 10i\n",
    "print(type(x))"
   ]
  },
  {
   "cell_type": "code",
   "execution_count": 9,
   "id": "1ab511b7-585b-435d-b3ae-abf3fa0b78f2",
   "metadata": {},
   "outputs": [
    {
     "name": "stdout",
     "output_type": "stream",
     "text": [
      "<class 'complex'>\n"
     ]
    }
   ],
   "source": [
    "x = 10j\n",
    "print(type(x))"
   ]
  },
  {
   "cell_type": "code",
   "execution_count": 10,
   "id": "419c9010-3b88-49fe-8e0b-7469cd000840",
   "metadata": {},
   "outputs": [
    {
     "name": "stdout",
     "output_type": "stream",
     "text": [
      "<class 'list'>\n"
     ]
    }
   ],
   "source": [
    "a = ['kavya', 'kiran', 'Dabbiru']\n",
    "print(type(a))"
   ]
  },
  {
   "cell_type": "code",
   "execution_count": 11,
   "id": "140e0180-3113-4be3-9984-979b3705db5d",
   "metadata": {},
   "outputs": [
    {
     "name": "stdout",
     "output_type": "stream",
     "text": [
      "<class 'tuple'>\n"
     ]
    }
   ],
   "source": [
    "a = ('Dabbiru', 'Kiran')\n",
    "print(type(a))"
   ]
  },
  {
   "cell_type": "code",
   "execution_count": 12,
   "id": "ae971777-c199-44e9-aa6e-00527860a570",
   "metadata": {},
   "outputs": [
    {
     "name": "stdout",
     "output_type": "stream",
     "text": [
      "<class 'range'>\n"
     ]
    }
   ],
   "source": [
    "a = range(5)\n",
    "print(type(a))"
   ]
  },
  {
   "cell_type": "code",
   "execution_count": 13,
   "id": "5b593a6c-118c-449e-bc09-84baadb28a31",
   "metadata": {},
   "outputs": [
    {
     "name": "stdout",
     "output_type": "stream",
     "text": [
      "range(0, 5)\n"
     ]
    }
   ],
   "source": [
    "a = range(5)\n",
    "print(a)"
   ]
  },
  {
   "cell_type": "code",
   "execution_count": 14,
   "id": "560e3c41-5ce2-479b-9d70-8296a69eaed6",
   "metadata": {},
   "outputs": [
    {
     "name": "stdout",
     "output_type": "stream",
     "text": [
      "{'Name': 'Kiran', 'Age': 26}\n",
      "<class 'dict'>\n"
     ]
    }
   ],
   "source": [
    "a = {\"Name\" : \"Kiran\", \"Age\" : 26}\n",
    "print(a)\n",
    "print(type(a))"
   ]
  },
  {
   "cell_type": "code",
   "execution_count": 17,
   "id": "1c08050f-683a-4e38-9d41-a42c85f2b9d2",
   "metadata": {},
   "outputs": [
    {
     "name": "stdout",
     "output_type": "stream",
     "text": [
      "frozenset({'Learning', 'Python', 'I am'})\n",
      "<class 'frozenset'>\n"
     ]
    }
   ],
   "source": [
    "a = frozenset({\"I am\", \"Learning\", \"Python\"})\n",
    "print(a)\n",
    "print(type(a))"
   ]
  },
  {
   "cell_type": "code",
   "execution_count": 19,
   "id": "e32696cb-1f94-4e18-968b-e3c64a396bb1",
   "metadata": {},
   "outputs": [
    {
     "name": "stdout",
     "output_type": "stream",
     "text": [
      "35000.0\n",
      "120000.0\n",
      "-8.77e+101\n"
     ]
    }
   ],
   "source": [
    "x = 35e3\n",
    "y = 12E4\n",
    "z = -87.7e100\n",
    "\n",
    "print(x)\n",
    "print(y)\n",
    "print(z)"
   ]
  },
  {
   "cell_type": "code",
   "execution_count": 20,
   "id": "6c8a6a37-a135-478a-bac8-f24ba10d5fd8",
   "metadata": {},
   "outputs": [
    {
     "name": "stdout",
     "output_type": "stream",
     "text": [
      "3000.0\n"
     ]
    }
   ],
   "source": [
    "a = 3e3\n",
    "print(a)"
   ]
  },
  {
   "cell_type": "code",
   "execution_count": 23,
   "id": "a0d5aff5-1ead-4449-a687-3debdcfd1732",
   "metadata": {},
   "outputs": [
    {
     "name": "stdout",
     "output_type": "stream",
     "text": [
      "35\n",
      "5.0\n",
      "(35.8+0j)\n",
      "<class 'int'>\n",
      "<class 'float'>\n",
      "<class 'complex'>\n"
     ]
    }
   ],
   "source": [
    "#type conversion\n",
    "a = 5\n",
    "b = 35.8\n",
    "c = 100j\n",
    "\n",
    "x = int(b)\n",
    "y = float(a)\n",
    "z = complex(b)\n",
    "\n",
    "print(x)\n",
    "print(y)\n",
    "print(z)\n",
    "\n",
    "print(type(x))\n",
    "print(type(y))\n",
    "print(type(z))\n"
   ]
  },
  {
   "cell_type": "code",
   "execution_count": 24,
   "id": "10ed84ba-853e-47d0-8946-fe95522d4ed6",
   "metadata": {},
   "outputs": [
    {
     "name": "stdout",
     "output_type": "stream",
     "text": [
      "Hi,\n",
      "my name is Kiran.\n",
      "I am Learning Python\n"
     ]
    }
   ],
   "source": [
    "#Multiline strings\n",
    "a = \"\"\"Hi,\n",
    "my name is Kiran.\n",
    "I am Learning Python\"\"\"\n",
    "print(a)"
   ]
  },
  {
   "cell_type": "code",
   "execution_count": 25,
   "id": "e8447636-58a7-4dd3-97c0-84ed748ea2f4",
   "metadata": {},
   "outputs": [
    {
     "name": "stdout",
     "output_type": "stream",
     "text": [
      "L\n"
     ]
    }
   ],
   "source": [
    "#Strings are arrays\n",
    "a = \"I am Learning Python\"\n",
    "print(a[5])"
   ]
  },
  {
   "cell_type": "code",
   "execution_count": 26,
   "id": "9d469253-53f4-41ba-b79e-ea2bd766a91e",
   "metadata": {},
   "outputs": [
    {
     "name": "stdout",
     "output_type": "stream",
     "text": [
      " \n"
     ]
    }
   ],
   "source": [
    "#Strings are arrays\n",
    "a = \"I am Learning Python\"\n",
    "print(a[4])"
   ]
  },
  {
   "cell_type": "code",
   "execution_count": 27,
   "id": "71580a93-c8ff-4998-93b5-aa635fb08117",
   "metadata": {},
   "outputs": [
    {
     "ename": "TypeError",
     "evalue": "string indices must be integers, not 'tuple'",
     "output_type": "error",
     "traceback": [
      "\u001b[1;31m---------------------------------------------------------------------------\u001b[0m",
      "\u001b[1;31mTypeError\u001b[0m                                 Traceback (most recent call last)",
      "Cell \u001b[1;32mIn[27], line 3\u001b[0m\n\u001b[0;32m      1\u001b[0m \u001b[38;5;66;03m#Strings are arrays\u001b[39;00m\n\u001b[0;32m      2\u001b[0m a \u001b[38;5;241m=\u001b[39m \u001b[38;5;124m\"\u001b[39m\u001b[38;5;124mI am Learning Python\u001b[39m\u001b[38;5;124m\"\u001b[39m\n\u001b[1;32m----> 3\u001b[0m \u001b[38;5;28mprint\u001b[39m(\u001b[43ma\u001b[49m\u001b[43m[\u001b[49m\u001b[38;5;241;43m4\u001b[39;49m\u001b[43m,\u001b[49m\u001b[43m \u001b[49m\u001b[38;5;241;43m5\u001b[39;49m\u001b[43m,\u001b[49m\u001b[43m \u001b[49m\u001b[38;5;241;43m6\u001b[39;49m\u001b[43m,\u001b[49m\u001b[43m \u001b[49m\u001b[38;5;241;43m7\u001b[39;49m\u001b[43m,\u001b[49m\u001b[43m \u001b[49m\u001b[38;5;241;43m8\u001b[39;49m\u001b[43m]\u001b[49m)\n",
      "\u001b[1;31mTypeError\u001b[0m: string indices must be integers, not 'tuple'"
     ]
    }
   ],
   "source": [
    "#Strings are arrays\n",
    "a = \"I am Learning Python\"\n",
    "print(a[4, 5, 6, 7, 8])"
   ]
  },
  {
   "cell_type": "code",
   "execution_count": 28,
   "id": "8eb0c55c-39f9-46ee-8a84-f74ca4d9cd70",
   "metadata": {},
   "outputs": [
    {
     "name": "stdout",
     "output_type": "stream",
     "text": [
      "  L e a r\n"
     ]
    }
   ],
   "source": [
    "#Strings are arrays\n",
    "a = \"I am Learning Python\"\n",
    "print(a[4], a[5], a[6], a[7], a[8])"
   ]
  },
  {
   "cell_type": "code",
   "execution_count": 29,
   "id": "02ed66c7-50cb-430c-986b-9dbf236951c3",
   "metadata": {},
   "outputs": [
    {
     "ename": "SyntaxError",
     "evalue": "invalid syntax (2063019907.py, line 1)",
     "output_type": "error",
     "traceback": [
      "\u001b[1;36m  Cell \u001b[1;32mIn[29], line 1\u001b[1;36m\u001b[0m\n\u001b[1;33m    a \"Kavyakiran\"\u001b[0m\n\u001b[1;37m      ^\u001b[0m\n\u001b[1;31mSyntaxError\u001b[0m\u001b[1;31m:\u001b[0m invalid syntax\n"
     ]
    }
   ],
   "source": [
    "a \"Kavyakiran\"\n",
    "print(len(a))"
   ]
  },
  {
   "cell_type": "code",
   "execution_count": 30,
   "id": "d6491c06-c0c5-4f59-82ea-be76a0399a19",
   "metadata": {},
   "outputs": [
    {
     "name": "stdout",
     "output_type": "stream",
     "text": [
      "10\n"
     ]
    }
   ],
   "source": [
    "#length of the string\n",
    "\n",
    "a = \"KavyaKiran\"\n",
    "print(len(a))"
   ]
  },
  {
   "cell_type": "code",
   "execution_count": 31,
   "id": "8d640668-26ff-4afc-8fd3-4ee95ee5ed6e",
   "metadata": {},
   "outputs": [
    {
     "name": "stdout",
     "output_type": "stream",
     "text": [
      "True\n"
     ]
    }
   ],
   "source": [
    "#check the strimg\n",
    "a = \"Mom is the first God for everyone\"\n",
    "print(\"God\" in a)"
   ]
  },
  {
   "cell_type": "code",
   "execution_count": 32,
   "id": "f9c72469-7ac1-4c4a-b8c6-0631416b4745",
   "metadata": {},
   "outputs": [
    {
     "name": "stdout",
     "output_type": "stream",
     "text": [
      "True\n"
     ]
    }
   ],
   "source": [
    "#check the strimg\n",
    "a = \"Mom is the first God for everyone\"\n",
    "print(\"one\" in a)"
   ]
  },
  {
   "cell_type": "code",
   "execution_count": 33,
   "id": "7281d498-ccf9-431f-8fb8-2d9003e3966a",
   "metadata": {},
   "outputs": [
    {
     "name": "stdout",
     "output_type": "stream",
     "text": [
      "False\n"
     ]
    }
   ],
   "source": [
    "#check the strimg using in\n",
    "a = \"Mom is the first God for everyone\"\n",
    "print(\"a\" in a)"
   ]
  },
  {
   "cell_type": "code",
   "execution_count": 34,
   "id": "e9498227-dfcf-4bfc-b513-864ccfc6b98d",
   "metadata": {},
   "outputs": [
    {
     "ename": "SyntaxError",
     "evalue": "expected ':' (4176709262.py, line 3)",
     "output_type": "error",
     "traceback": [
      "\u001b[1;36m  Cell \u001b[1;32mIn[34], line 3\u001b[1;36m\u001b[0m\n\u001b[1;33m    if(\"God\" in a)\u001b[0m\n\u001b[1;37m                  ^\u001b[0m\n\u001b[1;31mSyntaxError\u001b[0m\u001b[1;31m:\u001b[0m expected ':'\n"
     ]
    }
   ],
   "source": [
    "#check the string with if \n",
    "a = \"Mom is the first God for everyone\"\n",
    "if(\"God\" in a)\n",
    "  print(\"Yes, 'God' is present\")"
   ]
  },
  {
   "cell_type": "code",
   "execution_count": 35,
   "id": "cace057b-28b8-4e5f-94f4-6a114e9a5802",
   "metadata": {},
   "outputs": [
    {
     "name": "stdout",
     "output_type": "stream",
     "text": [
      "Yes, 'God' is present\n"
     ]
    }
   ],
   "source": [
    "#check the string with if \n",
    "a = \"Mom is the first God for everyone\"\n",
    "if(\"God\" in a):\n",
    "  print(\"Yes, 'God' is present\")"
   ]
  },
  {
   "cell_type": "code",
   "execution_count": 36,
   "id": "e26df399-b9bb-4012-8de4-b6933cca9883",
   "metadata": {},
   "outputs": [
    {
     "name": "stdout",
     "output_type": "stream",
     "text": [
      "Not Available\n"
     ]
    }
   ],
   "source": [
    "#check the string with if \n",
    "a = \"Mom is the first God for everyone\"\n",
    "if(\"Dad\" in a):\n",
    "  print(\"Yes, 'God' is present\")\n",
    "else:\n",
    "    print(\"Not Available\")"
   ]
  },
  {
   "cell_type": "code",
   "execution_count": 37,
   "id": "2d451ee4-1c94-4df1-aa39-3ad49bfb83b9",
   "metadata": {},
   "outputs": [
    {
     "name": "stdout",
     "output_type": "stream",
     "text": [
      "Available\n"
     ]
    }
   ],
   "source": [
    "#check if not\n",
    "\n",
    "a = \"Sweets are expensive in Dadu's\"\n",
    "if(\"cheap\" not in a):\n",
    "  print(\"Available\")\n",
    "else:\n",
    "    print(\"Not Available\")"
   ]
  },
  {
   "cell_type": "code",
   "execution_count": 38,
   "id": "e382fbf6-44ea-4cbb-af2f-63355b5292d8",
   "metadata": {},
   "outputs": [],
   "source": [
    "#check if not\n",
    "\n",
    "a = \"Sweets are expensive in Dadu's\"\n",
    "if(\"expensive\" not in a):\n",
    "  print(\"True\")"
   ]
  },
  {
   "cell_type": "code",
   "execution_count": 39,
   "id": "75631355-6b35-4c4a-8027-462bc4301120",
   "metadata": {},
   "outputs": [
    {
     "name": "stdout",
     "output_type": "stream",
     "text": [
      "False\n"
     ]
    }
   ],
   "source": [
    "#check if not\n",
    "\n",
    "a = \"Sweets are expensive in Dadu's\"\n",
    "if(\"expensive\" not in a):\n",
    "  print(\"True\")\n",
    "else:\n",
    "    print(\"False\")"
   ]
  },
  {
   "cell_type": "code",
   "execution_count": 40,
   "id": "fd982616-2bff-4710-b7cc-b2a4f6a59022",
   "metadata": {},
   "outputs": [
    {
     "ename": "TypeError",
     "evalue": "'builtin_function_or_method' object is not subscriptable",
     "output_type": "error",
     "traceback": [
      "\u001b[1;31m---------------------------------------------------------------------------\u001b[0m",
      "\u001b[1;31mTypeError\u001b[0m                                 Traceback (most recent call last)",
      "Cell \u001b[1;32mIn[40], line 2\u001b[0m\n\u001b[0;32m      1\u001b[0m a \u001b[38;5;241m=\u001b[39m \u001b[38;5;124m\"\u001b[39m\u001b[38;5;124mKavyaKiran\u001b[39m\u001b[38;5;124m\"\u001b[39m\n\u001b[1;32m----> 2\u001b[0m \u001b[38;5;28;43mprint\u001b[39;49m\u001b[43m[\u001b[49m\u001b[38;5;241;43m3\u001b[39;49m\u001b[43m:\u001b[49m\u001b[38;5;241;43m7\u001b[39;49m\u001b[43m]\u001b[49m\n",
      "\u001b[1;31mTypeError\u001b[0m: 'builtin_function_or_method' object is not subscriptable"
     ]
    }
   ],
   "source": [
    "a = \"KavyaKiran\"\n",
    "print[3:7]"
   ]
  },
  {
   "cell_type": "code",
   "execution_count": 43,
   "id": "95cb818e-c46d-482c-9e7f-708d79145e77",
   "metadata": {},
   "outputs": [
    {
     "name": "stdout",
     "output_type": "stream",
     "text": [
      "yaKi\n"
     ]
    }
   ],
   "source": [
    "#Slicing\n",
    "\n",
    "a = \"KavyaKiran\"\n",
    "print(a[3:7])"
   ]
  },
  {
   "cell_type": "code",
   "execution_count": 44,
   "id": "164c00d9-66a2-4901-829f-36576d562def",
   "metadata": {},
   "outputs": [
    {
     "name": "stdout",
     "output_type": "stream",
     "text": [
      "yaKir\n"
     ]
    }
   ],
   "source": [
    "a = \"KavyaKiran\"\n",
    "print(a[3:8])"
   ]
  },
  {
   "cell_type": "code",
   "execution_count": 45,
   "id": "20c98685-a4fb-4161-a419-91a9fb769aaa",
   "metadata": {},
   "outputs": [
    {
     "name": "stdout",
     "output_type": "stream",
     "text": [
      "KavyaKir\n"
     ]
    }
   ],
   "source": [
    "#Slice from start\n",
    "a = \"KavyaKiran\"\n",
    "print(a[:8])\n"
   ]
  },
  {
   "cell_type": "code",
   "execution_count": 46,
   "id": "c3fc5c87-e4cb-4d46-9970-c6df62311fad",
   "metadata": {},
   "outputs": [
    {
     "name": "stdout",
     "output_type": "stream",
     "text": [
      "KavyaKiran\n"
     ]
    }
   ],
   "source": [
    "#Slice to end\n",
    "a = \"KavyaKiran\"\n",
    "print(a[0:])\n"
   ]
  },
  {
   "cell_type": "code",
   "execution_count": 47,
   "id": "4e394bc0-fa1c-42a9-b1a1-debac7121068",
   "metadata": {},
   "outputs": [
    {
     "name": "stdout",
     "output_type": "stream",
     "text": [
      "\n"
     ]
    }
   ],
   "source": [
    "#Negative Indexing\n",
    "\n",
    "a = \"KavyaKiran\"\n",
    "print(a[-9:-0])"
   ]
  },
  {
   "cell_type": "code",
   "execution_count": 48,
   "id": "90cd90ff-5b26-48a5-867c-c5dfe72f8455",
   "metadata": {},
   "outputs": [
    {
     "name": "stdout",
     "output_type": "stream",
     "text": [
      "avyaKira\n"
     ]
    }
   ],
   "source": [
    "#Negative Indexing\n",
    "\n",
    "a = \"KavyaKiran\"\n",
    "print(a[-9:-1])"
   ]
  },
  {
   "cell_type": "code",
   "execution_count": 49,
   "id": "f04e52df-1e4e-44ca-a002-f8cb9635ff5d",
   "metadata": {},
   "outputs": [
    {
     "name": "stdout",
     "output_type": "stream",
     "text": [
      "KIRAN\n"
     ]
    }
   ],
   "source": [
    "#Upper case\n",
    "\n",
    "a = \"kiran\"\n",
    "print(a.upper())"
   ]
  },
  {
   "cell_type": "code",
   "execution_count": 52,
   "id": "3324b96f-57e4-427a-9cf4-a43f854282ac",
   "metadata": {},
   "outputs": [
    {
     "name": "stdout",
     "output_type": "stream",
     "text": [
      "kiran\n"
     ]
    }
   ],
   "source": [
    "#lower case\n",
    "\n",
    "a = \"KIRAN\"\n",
    "print(a.lower())"
   ]
  },
  {
   "cell_type": "code",
   "execution_count": 53,
   "id": "848f4277-2f59-41c6-9fff-a9bc6bb21895",
   "metadata": {},
   "outputs": [
    {
     "name": "stdout",
     "output_type": "stream",
     "text": [
      "I am learning Python\n"
     ]
    }
   ],
   "source": [
    "#Removing Whitespaces\n",
    "\n",
    "a = \"    I am learning Python    \"\n",
    "print(a.strip())"
   ]
  },
  {
   "cell_type": "code",
   "execution_count": 54,
   "id": "b7fb1dd7-0e04-4c24-baad-8a655cc34a11",
   "metadata": {},
   "outputs": [
    {
     "name": "stdout",
     "output_type": "stream",
     "text": [
      "    I am learning Python    \n"
     ]
    }
   ],
   "source": [
    "a = \"    I am learning Python    \"\n",
    "print(a)"
   ]
  },
  {
   "cell_type": "code",
   "execution_count": 55,
   "id": "872b112b-f727-4f83-9b4a-4c18028e78f6",
   "metadata": {},
   "outputs": [
    {
     "name": "stdout",
     "output_type": "stream",
     "text": [
      "Hello Goutham\n"
     ]
    }
   ],
   "source": [
    "#Replace String:\n",
    "\n",
    "a = \"Hello Karishma\"\n",
    "print(a.replace(\"Karishma\", \"Goutham\"))"
   ]
  },
  {
   "cell_type": "code",
   "execution_count": 56,
   "id": "5b277383-9a66-49b0-b97e-c260126fda0d",
   "metadata": {},
   "outputs": [
    {
     "name": "stdout",
     "output_type": "stream",
     "text": [
      "['', ' Karishma']\n"
     ]
    }
   ],
   "source": [
    "#Split String:\n",
    "\n",
    "a = \"Hello Karishma\"\n",
    "print(a.split(\"Hello\"))"
   ]
  },
  {
   "cell_type": "code",
   "execution_count": 57,
   "id": "3a1d1942-67bd-45e9-a99c-417ec161f21c",
   "metadata": {},
   "outputs": [
    {
     "name": "stdout",
     "output_type": "stream",
     "text": [
      "['', 'ello Karishma']\n"
     ]
    }
   ],
   "source": [
    "#Split String:\n",
    "\n",
    "a = \"Hello Karishma\"\n",
    "print(a.split(\"H\"))"
   ]
  },
  {
   "cell_type": "code",
   "execution_count": 58,
   "id": "2f822d8a-7a65-4140-8043-54c6f09a6af7",
   "metadata": {},
   "outputs": [
    {
     "name": "stdout",
     "output_type": "stream",
     "text": [
      "Hello Karishma\n"
     ]
    }
   ],
   "source": [
    "#Concatenate\n",
    "\n",
    "a = \"Hello\"\n",
    "b = \" Karishma\"\n",
    "print(a + b)"
   ]
  },
  {
   "cell_type": "code",
   "execution_count": 59,
   "id": "90c4e880-7686-4647-8b19-8702cb853b91",
   "metadata": {},
   "outputs": [
    {
     "name": "stdout",
     "output_type": "stream",
     "text": [
      "My name is Kiran. I am 26\n"
     ]
    }
   ],
   "source": [
    "#Format Strings\n",
    "\n",
    "age = 26\n",
    "Str = \"My name is Kiran. I am {}\"\n",
    "print(Str.format(age))"
   ]
  },
  {
   "cell_type": "code",
   "execution_count": 61,
   "id": "b4b29c90-800c-45cc-8302-05afd6f9d3f5",
   "metadata": {},
   "outputs": [
    {
     "name": "stdout",
     "output_type": "stream",
     "text": [
      "I want 100 plates of food for 5000 rupees\n"
     ]
    }
   ],
   "source": [
    "quantity = 100\n",
    "cost = 5000\n",
    "txt = \"I want {} plates of food for {} rupees\"\n",
    "print(txt.format(quantity, cost))"
   ]
  },
  {
   "cell_type": "code",
   "execution_count": 63,
   "id": "056c230e-96aa-4973-aa39-e25a63fd14f4",
   "metadata": {},
   "outputs": [
    {
     "name": "stdout",
     "output_type": "stream",
     "text": [
      "My Name is \"KIRAN\"\n"
     ]
    }
   ],
   "source": [
    "#Escape Characters\n",
    "txt = \"My Name is \\\"KIRAN\\\"\"\n",
    "print(txt)"
   ]
  },
  {
   "cell_type": "code",
   "execution_count": 65,
   "id": "b714add3-dba2-44d5-b624-41305a4ce84a",
   "metadata": {},
   "outputs": [
    {
     "name": "stdout",
     "output_type": "stream",
     "text": [
      "@ABCD\n"
     ]
    }
   ],
   "source": [
    "txt = \"\\100\\101\\102\\103\\104\"\n",
    "print(txt)"
   ]
  },
  {
   "cell_type": "code",
   "execution_count": 66,
   "id": "0972f404-3619-4ef0-8dcc-9b6cccb3b2b5",
   "metadata": {},
   "outputs": [
    {
     "name": "stdout",
     "output_type": "stream",
     "text": [
      "True\n"
     ]
    }
   ],
   "source": [
    "#Boolean Values\n",
    "\n",
    "a = 10\n",
    "b = 9\n",
    "print(a > b)"
   ]
  },
  {
   "cell_type": "code",
   "execution_count": 67,
   "id": "027b0b10-ba31-495c-9b56-5843dc9a8f1f",
   "metadata": {},
   "outputs": [
    {
     "name": "stdout",
     "output_type": "stream",
     "text": [
      "True\n",
      "True\n",
      "True\n"
     ]
    }
   ],
   "source": [
    "print(10 > 9)\n",
    "print(10 == 10)\n",
    "print(2 < 4)\n"
   ]
  },
  {
   "cell_type": "code",
   "execution_count": 68,
   "id": "2e590cba-5856-49b1-bf1f-de84e4aa63bb",
   "metadata": {},
   "outputs": [
    {
     "name": "stdout",
     "output_type": "stream",
     "text": [
      "b is greaterr than a\n"
     ]
    }
   ],
   "source": [
    "a = 100\n",
    "b = 200\n",
    "\n",
    "if(b > a):\n",
    "    print(\"b is greaterr than a\")\n",
    "else:\n",
    "    print(\"b is not greater than a\")"
   ]
  },
  {
   "cell_type": "code",
   "execution_count": 69,
   "id": "c763130d-870e-4882-b72c-aec9127a629e",
   "metadata": {},
   "outputs": [
    {
     "name": "stdout",
     "output_type": "stream",
     "text": [
      "Not Equal\n"
     ]
    }
   ],
   "source": [
    "a = 100\n",
    "b = 200\n",
    "if(a == b):\n",
    "    print(\"Equal\")\n",
    "else:\n",
    "    print(\"Not Equal\")"
   ]
  },
  {
   "cell_type": "code",
   "execution_count": 70,
   "id": "8ee3216e-130c-467e-bb79-979dce4ebf2f",
   "metadata": {},
   "outputs": [
    {
     "data": {
      "text/plain": [
       "True"
      ]
     },
     "execution_count": 70,
     "metadata": {},
     "output_type": "execute_result"
    }
   ],
   "source": [
    "#Bool Values\n",
    "bool(123)\n",
    "bool(\"Kavya\")"
   ]
  },
  {
   "cell_type": "code",
   "execution_count": 71,
   "id": "5bd5b4a4-330a-4e4f-a0b8-aa310f0e8398",
   "metadata": {},
   "outputs": [
    {
     "name": "stdout",
     "output_type": "stream",
     "text": [
      "True\n"
     ]
    }
   ],
   "source": [
    "def boolean():\n",
    "    return True\n",
    "print(boolean())"
   ]
  },
  {
   "cell_type": "code",
   "execution_count": 84,
   "id": "6546d18a-620f-4fcf-afca-24dd00492319",
   "metadata": {},
   "outputs": [
    {
     "name": "stdout",
     "output_type": "stream",
     "text": [
      "Yes\n"
     ]
    }
   ],
   "source": [
    "def boolean():\n",
    "  return True\n",
    "\n",
    "if boolean():\n",
    "    print(\"Yes\")\n",
    "else:\n",
    "    print(\"No\")"
   ]
  },
  {
   "cell_type": "code",
   "execution_count": 85,
   "id": "7824af57-8f9f-4ff8-aa35-2d4024042e3d",
   "metadata": {},
   "outputs": [
    {
     "name": "stdout",
     "output_type": "stream",
     "text": [
      "True\n"
     ]
    }
   ],
   "source": [
    "#Boolean value with isinstance()\n",
    "\n",
    "a = 100\n",
    "print(isinstance(a, int))"
   ]
  },
  {
   "cell_type": "code",
   "execution_count": 86,
   "id": "3e72429d-2d3a-4dba-8a95-6196ea50fd91",
   "metadata": {},
   "outputs": [
    {
     "name": "stdout",
     "output_type": "stream",
     "text": [
      "False\n"
     ]
    }
   ],
   "source": [
    "#Boolean value with isinstance()\n",
    "\n",
    "a = 100\n",
    "print(isinstance(a, float))"
   ]
  },
  {
   "cell_type": "code",
   "execution_count": 87,
   "id": "7a4b711b-7cb6-43ab-a42d-ab2814fc3ab9",
   "metadata": {},
   "outputs": [
    {
     "name": "stdout",
     "output_type": "stream",
     "text": [
      "True\n"
     ]
    }
   ],
   "source": [
    "#Boolean value with isinstance()\n",
    "\n",
    "a = 10j\n",
    "print(isinstance(a, complex))"
   ]
  },
  {
   "cell_type": "code",
   "execution_count": 88,
   "id": "a29727a5-4223-4208-92f7-950d8e5d2b4b",
   "metadata": {},
   "outputs": [
    {
     "name": "stdout",
     "output_type": "stream",
     "text": [
      "15\n"
     ]
    }
   ],
   "source": [
    "#Addition\n",
    "\n",
    "print(10 + 5)"
   ]
  },
  {
   "cell_type": "code",
   "execution_count": 89,
   "id": "90f690e4-6f7e-4ade-b9ef-38937d4f3a62",
   "metadata": {},
   "outputs": [
    {
     "name": "stdout",
     "output_type": "stream",
     "text": [
      "20\n"
     ]
    }
   ],
   "source": [
    "#Addition\n",
    "\n",
    "a = 10\n",
    "b = 10\n",
    "print(a + b)"
   ]
  },
  {
   "cell_type": "code",
   "execution_count": 90,
   "id": "593e6a53-0d18-4efb-9e89-1d722076a24a",
   "metadata": {},
   "outputs": [
    {
     "name": "stdout",
     "output_type": "stream",
     "text": [
      "0\n"
     ]
    }
   ],
   "source": [
    "#Subtraction\n",
    "a = 10\n",
    "b = 10\n",
    "print(a - b)\n"
   ]
  },
  {
   "cell_type": "code",
   "execution_count": 91,
   "id": "9f38a00c-775b-4876-b619-78126e049e6c",
   "metadata": {},
   "outputs": [
    {
     "name": "stdout",
     "output_type": "stream",
     "text": [
      "400\n"
     ]
    }
   ],
   "source": [
    "#Multiplication\n",
    "\n",
    "a = 20\n",
    "b = 20\n",
    "\n",
    "print(a * b)"
   ]
  },
  {
   "cell_type": "code",
   "execution_count": 92,
   "id": "ff1e6f01-5c18-49cf-a29e-0e4a31fadd68",
   "metadata": {},
   "outputs": [
    {
     "name": "stdout",
     "output_type": "stream",
     "text": [
      "2.0\n"
     ]
    }
   ],
   "source": [
    "#Division\n",
    "\n",
    "a = 20\n",
    "b = 10\n",
    "\n",
    "print(a / b)"
   ]
  },
  {
   "cell_type": "code",
   "execution_count": 93,
   "id": "b4100eb8-4a38-4597-9eb7-144ac14e7a78",
   "metadata": {},
   "outputs": [
    {
     "name": "stdout",
     "output_type": "stream",
     "text": [
      "10\n"
     ]
    }
   ],
   "source": [
    "#Modulus\n",
    "\n",
    "a = 10\n",
    "b = 20\n",
    "\n",
    "print(a % b)"
   ]
  },
  {
   "cell_type": "code",
   "execution_count": 94,
   "id": "534201c5-197f-4f59-b04b-909b9887ecab",
   "metadata": {},
   "outputs": [
    {
     "name": "stdout",
     "output_type": "stream",
     "text": [
      "20\n"
     ]
    }
   ],
   "source": [
    "#Exponentiation\n",
    "\n",
    "a = 10\n",
    "b = 2\n",
    "print(a * b)"
   ]
  },
  {
   "cell_type": "code",
   "execution_count": 95,
   "id": "ed20bdc0-6cc7-42e9-a479-b732ebcefacf",
   "metadata": {},
   "outputs": [
    {
     "name": "stdout",
     "output_type": "stream",
     "text": [
      "9\n"
     ]
    }
   ],
   "source": [
    "#Floor Division\n",
    "\n",
    "a = 100\n",
    "b = 11\n",
    "print(a // b)\n"
   ]
  },
  {
   "cell_type": "code",
   "execution_count": 96,
   "id": "7f45ee3c-a4ca-4f7a-b59d-e4ef41c2febc",
   "metadata": {},
   "outputs": [
    {
     "name": "stdout",
     "output_type": "stream",
     "text": [
      "Karishma\n"
     ]
    }
   ],
   "source": [
    "a = \"Karishma\"\n",
    "print(a)"
   ]
  },
  {
   "cell_type": "code",
   "execution_count": 97,
   "id": "3abc61fa-d7d6-483f-976c-2cedf08665de",
   "metadata": {},
   "outputs": [
    {
     "name": "stdout",
     "output_type": "stream",
     "text": [
      "20\n"
     ]
    }
   ],
   "source": [
    "a = 10\n",
    "a += 10\n",
    "print(a)"
   ]
  },
  {
   "cell_type": "code",
   "execution_count": 98,
   "id": "075cfb4f-8c87-4569-8dcc-9cf93d3a5d16",
   "metadata": {},
   "outputs": [
    {
     "name": "stdout",
     "output_type": "stream",
     "text": [
      "0\n"
     ]
    }
   ],
   "source": [
    "a = 10\n",
    "a -= 10\n",
    "print(a)"
   ]
  },
  {
   "cell_type": "code",
   "execution_count": 99,
   "id": "e5a7bf2b-869a-48c2-854d-4159a1db6d93",
   "metadata": {},
   "outputs": [
    {
     "name": "stdout",
     "output_type": "stream",
     "text": [
      "100\n"
     ]
    }
   ],
   "source": [
    "a = 10\n",
    "a *= 10\n",
    "print(a)"
   ]
  },
  {
   "cell_type": "code",
   "execution_count": 100,
   "id": "d0b926e9-332b-4820-8382-847173cace88",
   "metadata": {},
   "outputs": [
    {
     "name": "stdout",
     "output_type": "stream",
     "text": [
      "1.0\n"
     ]
    }
   ],
   "source": [
    "a = 10\n",
    "a /= 10\n",
    "print(a)"
   ]
  },
  {
   "cell_type": "code",
   "execution_count": 101,
   "id": "f039ed34-f283-45ac-8fe0-68debe467b7d",
   "metadata": {},
   "outputs": [
    {
     "name": "stdout",
     "output_type": "stream",
     "text": [
      "0\n"
     ]
    }
   ],
   "source": [
    "a = 10\n",
    "a %= 10\n",
    "print(a)"
   ]
  },
  {
   "cell_type": "code",
   "execution_count": 102,
   "id": "ec44fa5b-e8b5-4c75-94b2-6421a1fc5c39",
   "metadata": {},
   "outputs": [
    {
     "name": "stdout",
     "output_type": "stream",
     "text": [
      "11\n"
     ]
    }
   ],
   "source": [
    "a = 111\n",
    "a //= 10\n",
    "print(a)"
   ]
  },
  {
   "cell_type": "code",
   "execution_count": 103,
   "id": "15092865-a65c-4db2-b755-ebf4ca17d245",
   "metadata": {},
   "outputs": [
    {
     "name": "stdout",
     "output_type": "stream",
     "text": [
      "32\n"
     ]
    }
   ],
   "source": [
    "a = 2\n",
    "a **= 5\n",
    "print(a)"
   ]
  },
  {
   "cell_type": "code",
   "execution_count": null,
   "id": "2e509520-906e-4796-8ee1-c03b36c99d0c",
   "metadata": {},
   "outputs": [],
   "source": []
  }
 ],
 "metadata": {
  "kernelspec": {
   "display_name": "Python 3 (ipykernel)",
   "language": "python",
   "name": "python3"
  },
  "language_info": {
   "codemirror_mode": {
    "name": "ipython",
    "version": 3
   },
   "file_extension": ".py",
   "mimetype": "text/x-python",
   "name": "python",
   "nbconvert_exporter": "python",
   "pygments_lexer": "ipython3",
   "version": "3.12.1"
  }
 },
 "nbformat": 4,
 "nbformat_minor": 5
}
