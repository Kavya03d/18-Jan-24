{
 "cells": [
  {
   "cell_type": "code",
   "execution_count": 1,
   "id": "f05eb0d8-d48f-44a8-b40b-74cfc37d7897",
   "metadata": {},
   "outputs": [
    {
     "name": "stdout",
     "output_type": "stream",
     "text": [
      "Ladyfinger\n"
     ]
    }
   ],
   "source": [
    "#Accessing List items\n",
    "fruits = [\"Ladyfinger\", \"Potato\", \"Pineapple\"]\n",
    "print(fruits[0])"
   ]
  },
  {
   "cell_type": "code",
   "execution_count": 2,
   "id": "a2198227-1749-4074-9291-567fdf41e1c0",
   "metadata": {},
   "outputs": [
    {
     "name": "stdout",
     "output_type": "stream",
     "text": [
      "Pineapple\n"
     ]
    }
   ],
   "source": [
    "#Accessing List items\n",
    "fruits = [\"Ladyfinger\", \"Potato\", \"Pineapple\"]\n",
    "print(fruits[2])"
   ]
  },
  {
   "cell_type": "code",
   "execution_count": 3,
   "id": "6086ef53-b1a2-446d-baeb-f90262f26f97",
   "metadata": {},
   "outputs": [
    {
     "name": "stdout",
     "output_type": "stream",
     "text": [
      "Potato\n"
     ]
    }
   ],
   "source": [
    "#Negative Indexing\n",
    "\n",
    "fruits = [\"Ladyfinger\", \"Potato\", \"Pineapple\", \"apple\", \"banana\", \"Mango\"]\n",
    "print(fruits[-5])"
   ]
  },
  {
   "cell_type": "code",
   "execution_count": 4,
   "id": "744aecd8-9c6a-413e-99f9-62399fbac8aa",
   "metadata": {},
   "outputs": [
    {
     "name": "stdout",
     "output_type": "stream",
     "text": [
      "['Potato', 'Pineapple', 'apple']\n"
     ]
    }
   ],
   "source": [
    "#Range Of Items\n",
    "\n",
    "fruits = [\"Ladyfinger\", \"Potato\", \"Pineapple\", \"apple\", \"banana\", \"Mango\"]\n",
    "print(fruits[1:4])"
   ]
  },
  {
   "cell_type": "code",
   "execution_count": 5,
   "id": "c2a73fdc-5803-452a-9a2d-8e4f990c8cb6",
   "metadata": {},
   "outputs": [
    {
     "name": "stdout",
     "output_type": "stream",
     "text": [
      "['Ladyfinger', 'Potato', 'Pineapple', 'apple']\n"
     ]
    }
   ],
   "source": [
    "#Range Of Items\n",
    "\n",
    "fruits = [\"Ladyfinger\", \"Potato\", \"Pineapple\", \"apple\", \"banana\", \"Mango\"]\n",
    "print(fruits[:4])"
   ]
  },
  {
   "cell_type": "code",
   "execution_count": 6,
   "id": "42fe998e-f4df-4aa2-be52-b1dceeb58fae",
   "metadata": {},
   "outputs": [
    {
     "name": "stdout",
     "output_type": "stream",
     "text": [
      "['Potato', 'Pineapple', 'apple', 'banana', 'Mango']\n"
     ]
    }
   ],
   "source": [
    "#Range Of Items\n",
    "\n",
    "fruits = [\"Ladyfinger\", \"Potato\", \"Pineapple\", \"apple\", \"banana\", \"Mango\"]\n",
    "print(fruits[1:])"
   ]
  },
  {
   "cell_type": "code",
   "execution_count": 14,
   "id": "d20967af-6358-4923-b0cd-68b42dd85918",
   "metadata": {},
   "outputs": [
    {
     "name": "stdout",
     "output_type": "stream",
     "text": [
      "['Potato', 'Pineapple', 'apple', 'banana']\n"
     ]
    }
   ],
   "source": [
    "#Range Of Negative Indexes\n",
    "fruits = [\"Ladyfinger\", \"Potato\", \"Pineapple\", \"apple\", \"banana\", \"Mango\"]\n",
    "print(fruits[-5:-1])"
   ]
  },
  {
   "cell_type": "code",
   "execution_count": 11,
   "id": "8aaed4b2-bff1-4b1e-be25-fe6f9f4b09de",
   "metadata": {},
   "outputs": [
    {
     "name": "stdout",
     "output_type": "stream",
     "text": [
      "[]\n"
     ]
    }
   ],
   "source": [
    "#Range Of Negative Indexes\n",
    "\n",
    "fruits = [\"Ladyfinger\", \"Potato\", \"Pineapple\", \"apple\", \"banana\", \"Mango\"]\n",
    "print(fruits[-1:-5])"
   ]
  },
  {
   "cell_type": "code",
   "execution_count": 12,
   "id": "8924d04b-40ea-4301-92c6-8a088eeb04d7",
   "metadata": {},
   "outputs": [
    {
     "name": "stdout",
     "output_type": "stream",
     "text": [
      "['orange', 'kiwi', 'melon']\n"
     ]
    }
   ],
   "source": [
    "thislist = [\"apple\", \"banana\", \"cherry\", \"orange\", \"kiwi\", \"melon\", \"mango\"]\n",
    "print(thislist[-4:-1])"
   ]
  },
  {
   "cell_type": "code",
   "execution_count": 13,
   "id": "3b96dac0-6c2b-40c2-9bcb-ff42da52c33c",
   "metadata": {},
   "outputs": [
    {
     "name": "stdout",
     "output_type": "stream",
     "text": [
      "['Potato', 'Pineapple', 'apple', 'banana']\n"
     ]
    }
   ],
   "source": [
    "#Range Of Negative Indexes\n",
    "\n",
    "fruits = [\"Ladyfinger\", \"Potato\", \"Pineapple\", \"apple\", \"banana\", \"Mango\"]\n",
    "print(fruits[-5:-1])"
   ]
  },
  {
   "cell_type": "code",
   "execution_count": 17,
   "id": "42f92498-3395-4438-a685-47ec569f9b6a",
   "metadata": {},
   "outputs": [
    {
     "name": "stdout",
     "output_type": "stream",
     "text": [
      "Yes, Potato is availabe\n"
     ]
    }
   ],
   "source": [
    "#CHECK IF ITEM IS PRESENT IN LIST\n",
    "\n",
    "fruits = [\"Ladyfinger\", \"Potato\", \"Pineapple\", \"apple\", \"banana\", \"Mango\"]\n",
    "if (\"Potato\" in fruits):\n",
    " print(\"Yes, Potato is availabe\")\n"
   ]
  },
  {
   "cell_type": "code",
   "execution_count": 18,
   "id": "703a4028-3425-40a6-9aad-8ca0587382d3",
   "metadata": {},
   "outputs": [
    {
     "name": "stdout",
     "output_type": "stream",
     "text": [
      "Cherry is not available\n"
     ]
    }
   ],
   "source": [
    "#CHECK IF ITEM IS PRESENT IN LIST\n",
    "\n",
    "fruits = [\"Ladyfinger\", \"Potato\", \"Pineapple\", \"apple\", \"banana\", \"Mango\"]\n",
    "if (\"Cherry\" in fruits):\n",
    " print(\"Yes, Potato is availabe\")\n",
    "else:\n",
    "    print(\"Cherry is not available\")"
   ]
  },
  {
   "cell_type": "code",
   "execution_count": 19,
   "id": "224b80e0-a9b7-4370-a6f6-e22d6bcae910",
   "metadata": {},
   "outputs": [
    {
     "name": "stdout",
     "output_type": "stream",
     "text": [
      "['Ladyfinger', 'Potato', 'Cherry', 'apple', 'banana', 'Mango']\n"
     ]
    }
   ],
   "source": [
    "#change the item in the list\n",
    "fruits = [\"Ladyfinger\", \"Potato\", \"Pineapple\", \"apple\", \"banana\", \"Mango\"]\n",
    "fruits[2] = \"Cherry\"\n",
    "print(fruits)\n"
   ]
  },
  {
   "cell_type": "code",
   "execution_count": 20,
   "id": "94e866a9-24c6-4127-a2e7-464bf96fd2dc",
   "metadata": {},
   "outputs": [
    {
     "name": "stdout",
     "output_type": "stream",
     "text": [
      "['Ladyfinger', 'Cherry', 'Grapes', 'Maskmelon', 'Papaya', 'banana', 'Mango']\n"
     ]
    }
   ],
   "source": [
    "#change a range of item values\n",
    "\n",
    "fruits = [\"Ladyfinger\", \"Potato\", \"Pineapple\", \"apple\", \"banana\", \"Mango\"]\n",
    "fruits[1:4] = [\"Cherry\", \"Grapes\", \"Maskmelon\", \"Papaya\"]\n",
    "print(fruits)"
   ]
  },
  {
   "cell_type": "code",
   "execution_count": 21,
   "id": "61a60dfb-8d79-47ea-825a-3fee92305ac8",
   "metadata": {},
   "outputs": [
    {
     "name": "stdout",
     "output_type": "stream",
     "text": [
      "['Ladyfinger', 'Potato', 'Pineapple', 'Cherry', 'apple', 'banana', 'Mango']\n"
     ]
    }
   ],
   "source": [
    "#Insert an item\n",
    "fruits = [\"Ladyfinger\", \"Potato\", \"Pineapple\", \"apple\", \"banana\", \"Mango\"]\n",
    "fruits.insert(3, \"Cherry\")\n",
    "print(fruits)\n"
   ]
  },
  {
   "cell_type": "code",
   "execution_count": 22,
   "id": "3fee41a2-8427-499d-a9b9-0b051ab9c447",
   "metadata": {},
   "outputs": [
    {
     "name": "stdout",
     "output_type": "stream",
     "text": [
      "['Ladyfinger', 'Potato', 'Pineapple', 'apple', 'banana', 'Mango', 'Cherry']\n"
     ]
    }
   ],
   "source": [
    "#Append an item in the list\n",
    "\n",
    "fruits = [\"Ladyfinger\", \"Potato\", \"Pineapple\", \"apple\", \"banana\", \"Mango\"]\n",
    "fruits.append(\"Cherry\")\n",
    "print(fruits)"
   ]
  },
  {
   "cell_type": "code",
   "execution_count": 23,
   "id": "9a997af6-0b74-4170-a9bf-d0a821e60406",
   "metadata": {},
   "outputs": [
    {
     "name": "stdout",
     "output_type": "stream",
     "text": [
      "['Potato', 'Bitterguard', 'Bottleguard', 'Orange', 'Pineapple', 'Apple']\n"
     ]
    }
   ],
   "source": [
    "#Extend List\n",
    "\n",
    "Vegetables = [\"Potato\", \"Bitterguard\", \"Bottleguard\"]\n",
    "Fruits = [\"Orange\", \"Pineapple\", \"Apple\"]\n",
    "Vegetables.extend(Fruits)\n",
    "print(Vegetables)"
   ]
  },
  {
   "cell_type": "code",
   "execution_count": 25,
   "id": "1ef75095-7b9a-4ccb-be54-15332c97a3ff",
   "metadata": {},
   "outputs": [
    {
     "name": "stdout",
     "output_type": "stream",
     "text": [
      "['Orange', 'Pineapple', 'Apple', 'Potato', 'Bitterguard', 'Bottleguard']\n"
     ]
    }
   ],
   "source": [
    "#Extend List\n",
    "\n",
    "Vegetables = [\"Potato\", \"Bitterguard\", \"Bottleguard\"]\n",
    "Fruits = [\"Orange\", \"Pineapple\", \"Apple\"]\n",
    "Fruits.extend(Vegetables)\n",
    "print(Fruits)"
   ]
  },
  {
   "cell_type": "code",
   "execution_count": 27,
   "id": "0930abc5-569c-4935-a554-b6d251773745",
   "metadata": {},
   "outputs": [
    {
     "name": "stdout",
     "output_type": "stream",
     "text": [
      "['Potato', 'Bitterguard', 'Bottleguard', 'Orange', 'Pineapple', 'Apple']\n"
     ]
    }
   ],
   "source": [
    "#Add Any Iterable\n",
    "\n",
    "Vegetables = [\"Potato\", \"Bitterguard\", \"Bottleguard\"]\n",
    "Fruits = (\"Orange\", \"Pineapple\", \"Apple\")\n",
    "Vegetables.extend(Fruits)\n",
    "print(Vegetables)"
   ]
  },
  {
   "cell_type": "code",
   "execution_count": 28,
   "id": "a1328428-d8ae-44fe-a2ce-ff135b94ff40",
   "metadata": {},
   "outputs": [
    {
     "name": "stdout",
     "output_type": "stream",
     "text": [
      "['Ladyfinger', 'Pineapple', 'apple', 'banana', 'Mango']\n"
     ]
    }
   ],
   "source": [
    "#Remove Items\n",
    "\n",
    "fruits = [\"Ladyfinger\", \"Potato\", \"Pineapple\", \"apple\", \"banana\", \"Mango\"]\n",
    "fruits.remove(\"Potato\")\n",
    "print(fruits)"
   ]
  },
  {
   "cell_type": "code",
   "execution_count": 29,
   "id": "bd3b0061-e167-4d20-b70a-376ddf13f227",
   "metadata": {},
   "outputs": [
    {
     "name": "stdout",
     "output_type": "stream",
     "text": [
      "['Ladyfinger', 'Potato', 'apple', 'banana', 'Mango']\n"
     ]
    }
   ],
   "source": [
    "#Remove Specified index\n",
    "\n",
    "fruits = [\"Ladyfinger\", \"Potato\", \"Pineapple\", \"apple\", \"banana\", \"Mango\"]\n",
    "fruits.pop(2)\n",
    "print(fruits)"
   ]
  },
  {
   "cell_type": "code",
   "execution_count": 30,
   "id": "16a18645-2b0e-4cbd-85e3-07930a78f61f",
   "metadata": {},
   "outputs": [
    {
     "name": "stdout",
     "output_type": "stream",
     "text": [
      "['Ladyfinger', 'Potato', 'apple', 'banana', 'Mango']\n"
     ]
    }
   ],
   "source": [
    "#Delete Items\n",
    "\n",
    "fruits = [\"Ladyfinger\", \"Potato\", \"Pineapple\", \"apple\", \"banana\", \"Mango\"]\n",
    "del fruits[2]\n",
    "print(fruits)"
   ]
  },
  {
   "cell_type": "code",
   "execution_count": 32,
   "id": "8a958def-de89-4718-97bd-58669ffa6dfb",
   "metadata": {},
   "outputs": [
    {
     "ename": "NameError",
     "evalue": "name 'fruits' is not defined",
     "output_type": "error",
     "traceback": [
      "\u001b[1;31m---------------------------------------------------------------------------\u001b[0m",
      "\u001b[1;31mNameError\u001b[0m                                 Traceback (most recent call last)",
      "Cell \u001b[1;32mIn[32], line 3\u001b[0m\n\u001b[0;32m      1\u001b[0m fruits \u001b[38;5;241m=\u001b[39m [\u001b[38;5;124m\"\u001b[39m\u001b[38;5;124mLadyfinger\u001b[39m\u001b[38;5;124m\"\u001b[39m, \u001b[38;5;124m\"\u001b[39m\u001b[38;5;124mPotato\u001b[39m\u001b[38;5;124m\"\u001b[39m, \u001b[38;5;124m\"\u001b[39m\u001b[38;5;124mPineapple\u001b[39m\u001b[38;5;124m\"\u001b[39m, \u001b[38;5;124m\"\u001b[39m\u001b[38;5;124mapple\u001b[39m\u001b[38;5;124m\"\u001b[39m, \u001b[38;5;124m\"\u001b[39m\u001b[38;5;124mbanana\u001b[39m\u001b[38;5;124m\"\u001b[39m, \u001b[38;5;124m\"\u001b[39m\u001b[38;5;124mMango\u001b[39m\u001b[38;5;124m\"\u001b[39m]\n\u001b[0;32m      2\u001b[0m \u001b[38;5;28;01mdel\u001b[39;00m fruits\n\u001b[1;32m----> 3\u001b[0m \u001b[38;5;28mprint\u001b[39m(\u001b[43mfruits\u001b[49m)\n",
      "\u001b[1;31mNameError\u001b[0m: name 'fruits' is not defined"
     ]
    }
   ],
   "source": [
    "fruits = [\"Ladyfinger\", \"Potato\", \"Pineapple\", \"apple\", \"banana\", \"Mango\"]\n",
    "del fruits\n",
    "print(fruits)"
   ]
  },
  {
   "cell_type": "code",
   "execution_count": 33,
   "id": "ae82e6d4-31ac-482d-9bbb-035b7f37b7db",
   "metadata": {},
   "outputs": [
    {
     "name": "stdout",
     "output_type": "stream",
     "text": [
      "[]\n"
     ]
    }
   ],
   "source": [
    "#Clear The list\n",
    "fruits = [\"Ladyfinger\", \"Potato\", \"Pineapple\", \"apple\", \"banana\", \"Mango\"]\n",
    "fruits.clear()\n",
    "print(fruits)\n"
   ]
  },
  {
   "cell_type": "code",
   "execution_count": null,
   "id": "fde1568c-c255-4631-ac62-03a2e275ee47",
   "metadata": {},
   "outputs": [],
   "source": []
  }
 ],
 "metadata": {
  "kernelspec": {
   "display_name": "Python 3 (ipykernel)",
   "language": "python",
   "name": "python3"
  },
  "language_info": {
   "codemirror_mode": {
    "name": "ipython",
    "version": 3
   },
   "file_extension": ".py",
   "mimetype": "text/x-python",
   "name": "python",
   "nbconvert_exporter": "python",
   "pygments_lexer": "ipython3",
   "version": "3.12.1"
  }
 },
 "nbformat": 4,
 "nbformat_minor": 5
}
